{
 "cells": [
  {
   "cell_type": "markdown",
   "id": "da06da69",
   "metadata": {},
   "source": [
    "## 8장 노트정리\n",
    "\n",
    "이 파일은 8장 학습하면서 실행한 내용을 정리한 것이다.\n",
    "\n",
    "날짜: 2025.09.30\n",
    "\n",
    "이름: 안도혁\n",
    "\n",
    "학번 202010853"
   ]
  },
  {
   "cell_type": "markdown",
   "id": "88a176f0",
   "metadata": {},
   "source": [
    "### 예외?\n",
    "\n",
    "프로그램 실행 중 오류가 발생하면 생성되는 개체\n",
    "\n",
    "e.g. \n",
    "- 5/0 #제로나누기에러 \n",
    "- \"str\"+1 #타입에러\n",
    "- 1+var*2 #네임에러 등등"
   ]
  },
  {
   "cell_type": "markdown",
   "id": "039356b5",
   "metadata": {},
   "source": [
    "### 예외처리\n",
    "\n",
    "에러 발생시 특정 문장을 실행하도록 처리\n",
    "\n",
    "try: #다음 문장 실행  \n",
    "except: #오류시 다음 문장 실행  \n",
    "else: #정상시 다음 문장 실행  \n",
    "finally: #오류 관계 없이 실행"
   ]
  },
  {
   "cell_type": "code",
   "execution_count": 3,
   "id": "bdf18724",
   "metadata": {},
   "outputs": [
    {
     "name": "stdout",
     "output_type": "stream",
     "text": [
      "0으로 나눌 수 없습니다\n"
     ]
    }
   ],
   "source": [
    "try:\n",
    "    b = int(input(\"정수를 입력하세요: \"))\n",
    "    a = 1 / b\n",
    "except ZeroDivisionError:\n",
    "    print(\"0으로 나눌 수 없습니다\")\n",
    "else:\n",
    "    print(a)"
   ]
  },
  {
   "cell_type": "markdown",
   "id": "178f9194",
   "metadata": {},
   "source": [
    "### 파일 처리\n",
    "\n",
    "표준 입출력(stdin, stdout 등) 대신 파일에 기록하는 것  \n",
    "보통 txt 파일이나 binary 파일로 저장\n",
    "\n",
    "파일 열기  \n",
    "fp = open(\"파일이름\", \"모드\") #모드는 읽기전용, 쓰기전용 등등  \n",
    "\"./파일이름.txt\" 이렇게 적으면 현재 폴더라는 뜻\n",
    "\n",
    "모드 종류\n",
    "- r : 읽기전용(파일 필요)\n",
    "- w : 쓰기전용(파일 없으면 생성, 있으면 덮어쓰기)\n",
    "- a : 추가 모드(파일 끝에 덧붙임)\n",
    "- x : 배타적 생성 모드(파일 있으면 오류, 없으면 생성)\n",
    "- r+ : 읽기/쓰기 모드 (파일 존재해야 함)\n",
    "- w+ : 읽기/쓰기 모드 (파일 새로쓰기)\n",
    "- a+ : 읽기/쓰기 모드 (파일 끝에 덧붙이기)"
   ]
  },
  {
   "cell_type": "markdown",
   "id": "f3bc41fc",
   "metadata": {},
   "source": [
    "### txt파일 쓰기\n",
    "\n",
    "보통 utf-8 형식으로 저장 = 영어,숫자에 적합(한글은 용량+)\n",
    "\n",
    "write 함수: 여러 줄 쓸 때, 문자열로 출력(줄바꿈 \\n)  \n",
    "writeline 함수: 한 줄 쓸 때(줄 끝낼 때 \\n)"
   ]
  },
  {
   "cell_type": "code",
   "execution_count": 12,
   "id": "9ebb5fc2",
   "metadata": {},
   "outputs": [
    {
     "name": "stdout",
     "output_type": "stream",
     "text": [
      "파일 쓰기 완료\n"
     ]
    }
   ],
   "source": [
    "ofile = open(\"./test.txt\", \"w\", encoding=\"utf-8\")\n",
    "try:\n",
    "    ofile.write(\"Hello\\nthis is test\\n\")\n",
    "except Exception:\n",
    "    print(\"파일 쓰기 오류\")\n",
    "else:\n",
    "    print(\"파일 쓰기 완료\")"
   ]
  },
  {
   "cell_type": "markdown",
   "id": "de5b350b",
   "metadata": {},
   "source": [
    "### txt파일 읽기\n",
    "\n",
    "readlines 함수: 여러 줄 읽어 리스트로 반환  \n",
    "readline 함수: 한 줄 씩 읽음  \n",
    "str.strip() : 앞 뒤 공백문자 제거  \n",
    "파일 없으면 예외 발생 주의  "
   ]
  },
  {
   "cell_type": "code",
   "execution_count": 15,
   "id": "99a4cc61",
   "metadata": {},
   "outputs": [
    {
     "name": "stdout",
     "output_type": "stream",
     "text": [
      "Hello\n",
      "this is test\n"
     ]
    }
   ],
   "source": [
    "try:\n",
    "    rfile = open(\"./test.txt\", \"r\", encoding=\"utf-8\")\n",
    "    lines = rfile.readlines()\n",
    "    for line in lines:\n",
    "        print(line.strip())\n",
    "    rfile.close()\n",
    "except FileNotFoundError as e:\n",
    "    print(\"파일이 없습니다: \", e)"
   ]
  },
  {
   "cell_type": "markdown",
   "id": "5a213873",
   "metadata": {},
   "source": [
    "### 파일 열고 쓰고 닫기 한 번에 (with ~ as)\n",
    "\n",
    "딕셔너리 값을 phone.txt에 쓰고 읽고 출력"
   ]
  },
  {
   "cell_type": "code",
   "execution_count": 18,
   "id": "ca2887e9",
   "metadata": {},
   "outputs": [
    {
     "name": "stdout",
     "output_type": "stream",
     "text": [
      "name: 홍길동, phone: 010-1234-5678\n",
      "name: 김철수, phone: 010-9876-5432\n",
      "name: 이영희, phone: 010-1111-2222\n"
     ]
    }
   ],
   "source": [
    "contact: dict = {'010-1234-5678': '홍길동', '010-9876-5432': '김철수', '010-1111-2222': '이영희'}\n",
    "\n",
    "with open(\"./phone.txt\", \"w\", encoding=\"utf-8\") as wfile:\n",
    "    for k, v in contact.items():\n",
    "        wfile.write(f\"{v}:{k}\\n\")\n",
    "\n",
    "with open(\"./phone.txt\", \"r\", encoding=\"utf-8\") as rfile:\n",
    "    lines : str = rfile.readlines()\n",
    "    for line in lines:\n",
    "        k, v = line.strip().split(\":\")\n",
    "        print(f\"name: {k}, phone: {v}\")\n",
    "        line = rfile.readline()"
   ]
  }
 ],
 "metadata": {
  "kernelspec": {
   "display_name": "Python 3",
   "language": "python",
   "name": "python3"
  },
  "language_info": {
   "codemirror_mode": {
    "name": "ipython",
    "version": 3
   },
   "file_extension": ".py",
   "mimetype": "text/x-python",
   "name": "python",
   "nbconvert_exporter": "python",
   "pygments_lexer": "ipython3",
   "version": "3.12.0"
  }
 },
 "nbformat": 4,
 "nbformat_minor": 5
}
