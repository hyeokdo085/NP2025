{
 "cells": [
  {
   "cell_type": "markdown",
   "id": "c1e22d63",
   "metadata": {},
   "source": [
    "## 1. 지금까지 배운 내용\n",
    "\n",
    "### 1. 각 장에서 배운 내용\n",
    "\n",
    "2장에서는 한동안 만지지 않았던 파이썬 코딩에 대해 기억을 더듬으며, git과 관련한 터미널 명령어와 VSCode 사용법을 배웠다.\n",
    "\n",
    "3장에서는 본격적인 파이썬 코딩을 시작하며 if, for, while과 같은 제어문과 반복문을 학습했다.\n",
    "\n",
    "4장에서는 문자열부터 시작하여 리스트, 튜플, 딕셔터리, 셋 등의 자료구조를 학습했다. 각각의 사용법(소, 중, 대괄호 등)을 주의할 것.\n",
    "\n",
    "5장에서는 코드의 가독성을 좋게 만드는 함수에 대해 학습했다. 특히, C와 비교하여 비교적 편하고 다른 점이 많았다.\n",
    "\n",
    "6장에서는 자바에서 주가 되었던 클래스와 객체에 대해 학습했다. 자바를 배울 당시 굉장히 어려웠으나, 이번에 다시 배우며 \"아 그때 그런 내용이었구나\" 싶은 내용이 많았다.\n",
    "\n",
    "7장에서는 모듈과 패키지에 대해 학습했다. C보다 훨씬 많고 다양하고 간편한 기능을 담고 있어서 이를 잘 사용하는 것이 파이썬 코딩에 큰 중점일 것이라 생각한다.\n",
    "\n",
    "8장에서는 오류를 처리하는 예외처리와 파일로 입출력을 사용하는 파일처리에 대해 학습했다. 파이썬 자체에 내장된 예외처리 명령어가 많아 C보다 간편하다 느꼈다.\n",
    "\n",
    "### 2. 내가 새롭게 알게 된 내용\n",
    "\n",
    "복수전공생이라 학년과 관계없이 강의를 수강해야 해서 파이썬을 배운 지 한참이 지났고, 전에 배웠던 파이썬은 파이썬이 중점이 되는 강의가 아닌 교과교육학을 통해 잠깐 배운 것이므로 자세히 다루지 않았다. 6장(클래스) 이후의 내용은 모르고 있었으나, 해당 과목을 통해 새롭게 배울 수 있었다.\n",
    "\n",
    "### 3. 나에게 새롭게 생긴 능력\n",
    "\n",
    "자바와 파이썬을 사용하지 않은지 오래 되었고, C만을 계속 사용해왔다. 또한 C를 배우기 이전에 자바와 파이썬의 객체지향을 학습하다보니 이해가 되지 않는 내용이 많았다. 때문에 객체지향 코딩을 하는 법을 완전히 잊고 있었는데, 이번 강의로 객체지향 코딩이 어떤 방식인지 잘 이해하는 능력이 생겼다.\n",
    "\n",
    "### 4. 요약 및 느낀점\n",
    "\n",
    "코딩이 뭔지도 모르는 상태에서 배우던 자바와 파이썬은 너무나도 어려워 이해하지 못하고 넘어갔는데, 네트워크프로그래밍 과목 덕분에 코딩에서 무척 중요한 객체지향을 다시 이해할 수 있어서 정말 다행이다."
   ]
  },
  {
   "cell_type": "markdown",
   "id": "c766af70",
   "metadata": {},
   "source": [
    "## 2. 난이도 하 문제 생성, 설계, 구현"
   ]
  },
  {
   "cell_type": "markdown",
   "id": "d7323e0d",
   "metadata": {},
   "source": [
    "### 1. 문제 작성"
   ]
  },
  {
   "cell_type": "markdown",
   "id": "7b5abc23",
   "metadata": {},
   "source": [
    "사용자로부터 여러개의 숫자를 입력받아, 짝수와 홀수를 구분하여 각각 몇 개가 있는지 출력하는 프로그램"
   ]
  },
  {
   "cell_type": "markdown",
   "id": "deec15ad",
   "metadata": {},
   "source": [
    "### 2. 문제 분석"
   ]
  },
  {
   "cell_type": "markdown",
   "id": "90513eb5",
   "metadata": {},
   "source": [
    "1. 입력\n",
    "- 숫자들을 입력받아 문자열로 저장\n",
    "- 공백 기준으로 나누어 정수 리스트로 변환\n",
    "\n",
    "2. 짝수/홀수 판별 함수 제작\n",
    "\n",
    "3. 짝수/홀수 개수 세기\n",
    "- 반복문을 사용하여 리스트 전체 반복하여 개수 카운트\n",
    "\n",
    "4. 출력"
   ]
  },
  {
   "cell_type": "markdown",
   "id": "08bb8845",
   "metadata": {},
   "source": [
    "### 3. 구현 코드 작성"
   ]
  },
  {
   "cell_type": "code",
   "execution_count": null,
   "id": "2c254727",
   "metadata": {},
   "outputs": [],
   "source": [
    "def is_even(num): #홀짝 판별 함수\n",
    "    if num % 2 == 0: \n",
    "        return True\n",
    "    else:\n",
    "        return False\n",
    "    \n",
    "def count_even_odd(nums): #홀짝 개수 세기\n",
    "    count_even = 0\n",
    "    count_odd = 0\n",
    "    for num in nums: #리스트 전체 반복하여 개수 카운트\n",
    "        if is_even(num) == True:\n",
    "            count_even += 1\n",
    "        elif is_even(num) == False:\n",
    "            count_odd += 1\n",
    "        else:\n",
    "            print(\"입력 오류!\")\n",
    "            return -1\n",
    "    return count_even, count_odd"
   ]
  },
  {
   "cell_type": "markdown",
   "id": "74c1b197",
   "metadata": {},
   "source": [
    "### 4. 테스트 코드 작성"
   ]
  },
  {
   "cell_type": "code",
   "execution_count": null,
   "id": "64c1b735",
   "metadata": {},
   "outputs": [],
   "source": [
    "def test1():\n",
    "    user_input = input(\"정수를 입력하세요. \")\n",
    "    str_nums = user_input.split() #공백 기준으로 나누기\n",
    "    nums = [int(s) for s in str_nums] #정수형 리스트로\n",
    "    even, odd = count_even_odd(nums)\n",
    "    print(f\"입력 정수 : {nums}\")\n",
    "    print(f\"짝수 개수 : {even}\")\n",
    "    print(f\"홀수 개수 : {odd}\")"
   ]
  },
  {
   "cell_type": "markdown",
   "id": "87a6dbdc",
   "metadata": {},
   "source": [
    "### 5. 실행"
   ]
  },
  {
   "cell_type": "code",
   "execution_count": 21,
   "id": "45005691",
   "metadata": {},
   "outputs": [
    {
     "name": "stdout",
     "output_type": "stream",
     "text": [
      "입력 정수 : [1, 2, 3, 4, 5, 5]\n",
      "짝수 개수 : 2\n",
      "홀수 개수 : 4\n"
     ]
    }
   ],
   "source": [
    "test1()"
   ]
  },
  {
   "cell_type": "markdown",
   "id": "8ebfb040",
   "metadata": {},
   "source": [
    "## 3. 난이도 중 문제 생성, 설계, 구현"
   ]
  },
  {
   "cell_type": "markdown",
   "id": "7132d7ef",
   "metadata": {},
   "source": [
    "### 1. 문제 작성"
   ]
  },
  {
   "cell_type": "markdown",
   "id": "b01f25af",
   "metadata": {},
   "source": [
    "이름, 학번, 점수를 인스턴스 변수로 갖는 Student 클래스 작성. add_score(score) 메소드는 새 점수 추가, average() 메소드는 현재 점수 평균을 반환, grade() 메소드는 평균 점수에 따라 등급 반환(~60:F, ~69:D, ~79:C, ~89:B, 90~:A). 이름 \"안도혁\"에 학번\"202010853\"인 학생을 만든 뒤, 점수를 추가하고 평균과 등급을 출력하라."
   ]
  },
  {
   "cell_type": "markdown",
   "id": "9b5d159f",
   "metadata": {},
   "source": [
    "### 2. 문제 분석"
   ]
  },
  {
   "cell_type": "markdown",
   "id": "89380cb4",
   "metadata": {},
   "source": [
    "1. 학생 정보\n",
    "- 이름: 문자열\n",
    "- 학번: 정수\n",
    "- 점수: 리스트\n",
    "\n",
    "2. 점수 추가 기능 구현\n",
    "3. 평균 계산 기능 구현\n",
    "- 점수가 없는 경우 예외처리\n",
    "4. 등급 계산 기능 구현\n",
    "5. 객체 생성, 점수 추가, 평균 출력, 등급 출력 순서"
   ]
  },
  {
   "cell_type": "markdown",
   "id": "00e6d823",
   "metadata": {},
   "source": [
    "### 3. 구현 코드 작성"
   ]
  },
  {
   "cell_type": "code",
   "execution_count": null,
   "id": "4eb9c1c1",
   "metadata": {},
   "outputs": [],
   "source": [
    "class Student:\n",
    "    def __init__(self, name, id): #학생 정보\n",
    "        self.name = name\n",
    "        self.id = id\n",
    "        self.scores = []\n",
    "\n",
    "    def add_score(self, score): #점수 추가 기능\n",
    "        self.scores.append(score)\n",
    "\n",
    "    def average(self): #평균 계산 기능\n",
    "        if len(self.scores) == 0: #점수 없으면?\n",
    "            return 0 # 0반환\n",
    "        return sum(self.scores) / len(self.scores)\n",
    "\n",
    "    def grade(self): #등급 계싼\n",
    "        avg = self.average()\n",
    "        if avg >= 90:\n",
    "            return \"A\"\n",
    "        elif avg >= 80:\n",
    "            return \"B\"\n",
    "        elif avg >= 70:\n",
    "            return \"C\"\n",
    "        elif avg >= 60:\n",
    "            return \"D\"\n",
    "        else:\n",
    "            return \"F\""
   ]
  },
  {
   "cell_type": "markdown",
   "id": "4714fa0f",
   "metadata": {},
   "source": [
    "### 4. 테스트 코드 작성"
   ]
  },
  {
   "cell_type": "code",
   "execution_count": null,
   "id": "2e04e5d9",
   "metadata": {},
   "outputs": [],
   "source": [
    "def test2():\n",
    "    std = Student(\"안도혁\", \"202010853\") #객체 생성\n",
    "\n",
    "    std.add_score(84) #점수 추가\n",
    "    std.add_score(97)\n",
    "    std.add_score(79)\n",
    "\n",
    "    print(f\"{std.name} ({std.id})\") #학생 정보\n",
    "    print(f\"각각 점수 : {std.scores}\") #점수\n",
    "    print(f\"평균 : {std.average():.2f}, 등급 : {std.grade()}\") #평균과 등급 출력"
   ]
  },
  {
   "cell_type": "markdown",
   "id": "0590da9c",
   "metadata": {},
   "source": [
    "### 5. 실행"
   ]
  },
  {
   "cell_type": "code",
   "execution_count": 41,
   "id": "b1497042",
   "metadata": {},
   "outputs": [
    {
     "name": "stdout",
     "output_type": "stream",
     "text": [
      "안도혁 (202010853)\n",
      "각각 점수 : [84, 97, 79]\n",
      "평균 : 86.67, 등급 : B\n"
     ]
    }
   ],
   "source": [
    "test2()"
   ]
  },
  {
   "cell_type": "markdown",
   "id": "4a93fa07",
   "metadata": {},
   "source": [
    "## 4. 난이도 상 문제 생성, 설계, 구현"
   ]
  },
  {
   "cell_type": "markdown",
   "id": "884d2650",
   "metadata": {},
   "source": [
    "### 1. 문제 작성"
   ]
  },
  {
   "cell_type": "markdown",
   "id": "5db0ee32",
   "metadata": {},
   "source": [
    "가상 쇼핑몰 재고 및 주문 관리 프로그램을 작성하라.\n",
    "- txt 파일에서 상품 목록을 쓰기, 읽기가 가능해야한다.\n",
    "- 사용자가 주문하면, 주문 성공여부와 잔여 재고가 표시된다.\n",
    "- 주문 수량에 따른 할인 정책을 적용한다.\n",
    "- 재고 부족 시 예외처리\n",
    "- 잘못된 입력(없는 상품, 음수 수량 등) 예외처리"
   ]
  },
  {
   "cell_type": "markdown",
   "id": "62f5b4c8",
   "metadata": {},
   "source": [
    "### 2. 문제 분석"
   ]
  },
  {
   "cell_type": "markdown",
   "id": "d9e18b20",
   "metadata": {},
   "source": [
    "1. 상품 정보 Product 클래스 설계(이름, 수량, 가격)\n",
    "- 주문시 할인 메소드(50초과 10%, 11~50 5%)\n",
    "- 재고 감소 처리 메소드\n",
    "2. 상품 관리 InvManager 클래스 설계(파일입출력 사용)\n",
    "- 불러오기 메소드 load_p()\n",
    "- 쓰기 메소드 save_p()\n",
    "- 현황 출력 메소드 show_inv()\n",
    "- 주문 처리 메소드 order(), 할인 기능 구현\n",
    "3. 입력 예외처리 구현(없는 상품, 음수 수량, 재고 부족)\n",
    "4. products.txt 작성"
   ]
  },
  {
   "cell_type": "markdown",
   "id": "8f0f2612",
   "metadata": {},
   "source": [
    "### 3. 구현 코드 작성"
   ]
  },
  {
   "cell_type": "code",
   "execution_count": null,
   "id": "f2525b08",
   "metadata": {},
   "outputs": [],
   "source": [
    "class Product: \n",
    "    def __init__(self, p_name, stock, price): #상품 정보\n",
    "        self.p_name = p_name\n",
    "        self.stock = stock\n",
    "        self.price = price\n",
    "\n",
    "    def offer_price(self, quantity): #주문 할인\n",
    "        if quantity >= 51:\n",
    "            return self.price * quantity * 0.90 \n",
    "        elif 11 <= quantity <= 50:\n",
    "            return self.price * quantity * 0.95  \n",
    "        else:\n",
    "            return self.price * quantity \n",
    "\n",
    "    def purchase(self, quantity): #구매시 재고 감소\n",
    "        self.stock -= quantity\n",
    "\n",
    "class InvManager:\n",
    "    def __init__(self, filename):\n",
    "        self.filename = filename\n",
    "        self.products = {} \n",
    "        self.load_p()\n",
    "\n",
    "    def load_p(self): #읽기 메소드\n",
    "        try: #예외처리(파일 없으면)\n",
    "            with open(self.filename, \"r\", encoding=\"utf-8\") as f: #파일 읽기\n",
    "                for line in f:\n",
    "                    p_name, stock, price = line.strip().split(\",\") #콤마 기준으로 분류\n",
    "                    self.products[p_name] = Product(p_name, int(stock), int(price)) #읽은 정보 가져오기\n",
    "        except FileNotFoundError: #예외처리\n",
    "            print(\"products.txt가 없습니다.\")\n",
    "            self.products = {}\n",
    "\n",
    "    def save_p(self): #쓰기 메소드\n",
    "        with open(self.filename, \"w\", encoding=\"utf-8\") as f: #파일 쓰기\n",
    "            for product in self.products.values(): #프로그램 내에서 가져와 수정된 정보를\n",
    "                f.write(f\"{product.p_name},{product.stock},{product.price}\\n\") #파일에 덮어쓰기\n",
    "\n",
    "    def show_inv(self): #재고 현황 메소드\n",
    "        print(\"\\n재고 현황 \")\n",
    "        for product in self.products.values(): #개수만큼 반복\n",
    "            print(f\"{product.p_name} - 재고: {product.stock}, 단가: {product.price}원\")\n",
    "\n",
    "    def order(self, p_name, quantity): #주문 처리 메소드\n",
    "        if p_name not in self.products: #예외처리-이름 불일치\n",
    "            print(\"\\n해당 상품이 존재하지 않습니다.\")\n",
    "            return\n",
    "        product = self.products[p_name]\n",
    "        if quantity <= 0: #예외처리-수량오류\n",
    "            print(\"\\n주문 수량은 양수여야 합니다.\")\n",
    "            return\n",
    "        if product.stock < quantity: #예와처리-재고부족\n",
    "            print(\"\\n재고가 부족합니다.\")\n",
    "            return\n",
    "\n",
    "        price = product.offer_price(quantity) #양만큼 가격책정\n",
    "        product.purchase(quantity) #구매처리(재고감소)\n",
    "        self.save_p() #이후 정보 파일에 쓰기\n",
    "\n",
    "        print(\"\\n주문 성공!\")\n",
    "        print(f\"주문 가격: {price:.0f}원\") #소수점 절삭\n",
    "        print(f\"{product.p_name} 재고: {product.stock}개\")"
   ]
  },
  {
   "cell_type": "markdown",
   "id": "9143ebcf",
   "metadata": {},
   "source": [
    "### 4. 테스트 코드 작성"
   ]
  },
  {
   "cell_type": "code",
   "execution_count": 129,
   "id": "775259b3",
   "metadata": {},
   "outputs": [],
   "source": [
    "def test3():\n",
    "    manager = InvManager(\"products.txt\") #파일 정보 가져오기\n",
    "\n",
    "    print(\"쇼핑몰 재고 관리 시스템\")\n",
    "    manager.show_inv() #재고 먼저 띄워주고\n",
    "\n",
    "    while True:\n",
    "        command = input(\"\\n주문 입력 (상품명 수량) 또는 '종료' 입력: \") #불필요 공백 제거\n",
    "        if command == \"종료\":\n",
    "            print(\"프로그램 종료\")\n",
    "            break\n",
    "\n",
    "        try:\n",
    "            name, qty_str = command.split() #공백기준 나누기\n",
    "            quantity = int(qty_str)\n",
    "            manager.order(name, quantity)\n",
    "        except ValueError: #예외처리-형식에 안 맞을 때\n",
    "            print(\"올바른 형식으로 입력해주세요 (상품명 수량)\")\n",
    "        \n",
    "        manager.show_inv()#이후에 재고 또 띄워주기"
   ]
  },
  {
   "cell_type": "markdown",
   "id": "1c645078",
   "metadata": {},
   "source": [
    "### 5. 실행"
   ]
  },
  {
   "cell_type": "code",
   "execution_count": 130,
   "id": "c531c899",
   "metadata": {},
   "outputs": [
    {
     "name": "stdout",
     "output_type": "stream",
     "text": [
      "쇼핑몰 재고 관리 시스템\n",
      "\n",
      "재고 현황 \n",
      "사과 - 재고: 390, 단가: 1500원\n",
      "과자 - 재고: 670, 단가: 1000원\n",
      "고기 - 재고: 195, 단가: 200원\n",
      "\n",
      "주문 성공!\n",
      "주문 가격: 15675원\n",
      "사과 재고: 379개\n",
      "\n",
      "재고 현황 \n",
      "사과 - 재고: 379, 단가: 1500원\n",
      "과자 - 재고: 670, 단가: 1000원\n",
      "고기 - 재고: 195, 단가: 200원\n",
      "\n",
      "해당 상품이 존재하지 않습니다.\n",
      "\n",
      "재고 현황 \n",
      "사과 - 재고: 379, 단가: 1500원\n",
      "과자 - 재고: 670, 단가: 1000원\n",
      "고기 - 재고: 195, 단가: 200원\n",
      "\n",
      "재고가 부족합니다.\n",
      "\n",
      "재고 현황 \n",
      "사과 - 재고: 379, 단가: 1500원\n",
      "과자 - 재고: 670, 단가: 1000원\n",
      "고기 - 재고: 195, 단가: 200원\n",
      "프로그램 종료\n"
     ]
    }
   ],
   "source": [
    "test3()"
   ]
  }
 ],
 "metadata": {
  "kernelspec": {
   "display_name": "Python 3",
   "language": "python",
   "name": "python3"
  },
  "language_info": {
   "codemirror_mode": {
    "name": "ipython",
    "version": 3
   },
   "file_extension": ".py",
   "mimetype": "text/x-python",
   "name": "python",
   "nbconvert_exporter": "python",
   "pygments_lexer": "ipython3",
   "version": "3.12.0"
  }
 },
 "nbformat": 4,
 "nbformat_minor": 5
}
