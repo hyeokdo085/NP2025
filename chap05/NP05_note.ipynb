{
 "cells": [
  {
   "cell_type": "markdown",
   "id": "ef911e77",
   "metadata": {},
   "source": [
    "## 5장 노트정리\n",
    "\n",
    "이 파일은 5장 학습하면서 실행한 내용을 정리한 것이다.\n",
    "\n",
    "날짜: 2025.09.16\n",
    "\n",
    "이름: 안도혁\n",
    "\n",
    "학번 202010853"
   ]
  },
  {
   "cell_type": "markdown",
   "id": "71c8a43a",
   "metadata": {},
   "source": [
    "### 함수\n",
    "\n",
    "함수 사용 이유?\n",
    "- 중복 코드 제거\n",
    "- 가독성, 재사용, 유지관리\n",
    "\n",
    "파이썬의 인터프레터는 C/C++임!\n",
    "\n",
    "함수를 변수처럼 사용 가능\n",
    "\n",
    "\n",
    "작성법?\n",
    "\n",
    "def 함수이름(매개변수) :  \n",
    "    문장1  \n",
    "    문장2  \n",
    "    return 값\n",
    "\n",
    "\n",
    "추가적으로 메인코드에 \n",
    "\n",
    "if (__name__==\"__main__\") :  \n",
    "func1()  \n",
    "func2()\n",
    "\n",
    "이렇게 해야 모듈 만들 때 좋음"
   ]
  },
  {
   "cell_type": "markdown",
   "id": "d894ed22",
   "metadata": {},
   "source": [
    "### 변수\n",
    "\n",
    "함수 내에서 전역변수 선언? global 사용\n",
    "\n",
    "매개변수 디폴드 값 지정도 C처럼 가능  \n",
    "입력시, 5, c=7 이런 식으로 중간 b를 무시하면  \n",
    "a=5, b=기본값, c=7로 입력\n",
    "\n",
    "+ f스트링 : print(f\"내용{값}내용\")\n",
    "\n",
    "### 매개변수의 수가 가변적일때?\n",
    "\n",
    "def 함수이름(*매개변수+s): (튜플)  \n",
    "for n in 매개변수s: #전달받은 매개변수 튜플 처리\n",
    "\n",
    "def 함수이름(**매개변수+s): (딕셔너리)  \n",
    "for i in 매개변수s.keys(): #딕셔너리 key를 하나씩 처리\n",
    "\n"
   ]
  },
  {
   "cell_type": "markdown",
   "id": "08a96df8",
   "metadata": {},
   "source": [
    "### 람다(무명)함수\n",
    "\n",
    "이름 없는 한 줄짜리 함수: 간편하게 사용할 때 사용(temp)\n",
    "\n",
    "lambda parameters: expression\n",
    "\n",
    "예\n",
    "- lambda x,y: x+y #매개 xy 전달받아 x+y 리턴\n",
    "\n",
    "두 개 이상 값 리턴하려면 튜플이나 리스트 사용"
   ]
  },
  {
   "cell_type": "code",
   "execution_count": 1,
   "id": "dbeb626b",
   "metadata": {},
   "outputs": [
    {
     "name": "stdout",
     "output_type": "stream",
     "text": [
      "3\n",
      "5\n"
     ]
    }
   ],
   "source": [
    "sum = lambda x,y: x+y\n",
    "print(sum(1,2))\n",
    "sum2 = sum\n",
    "print(sum2(2,3))"
   ]
  },
  {
   "cell_type": "markdown",
   "id": "1751c25e",
   "metadata": {},
   "source": [
    "### 재귀함수\n",
    "\n",
    "스스로를 호출하는 함수(반복문으로 대체 가능)\n",
    "\n",
    "반복문보다 이점? 코드가 아름답다!(가독성 좋음)\n",
    "- 초기 조건\n",
    "- 수식\n",
    "- 종료 조건"
   ]
  },
  {
   "cell_type": "markdown",
   "id": "98772e99",
   "metadata": {},
   "source": [
    "### 내장함수\n",
    "\n",
    "- eval : 문자열로 표시된 계산 결과 반환"
   ]
  },
  {
   "cell_type": "code",
   "execution_count": 2,
   "id": "4b501c6d",
   "metadata": {},
   "outputs": [
    {
     "name": "stdout",
     "output_type": "stream",
     "text": [
      "3\n"
     ]
    }
   ],
   "source": [
    "n = 1\n",
    "m = 2\n",
    "print(f\"{eval('n+m')}\")"
   ]
  },
  {
   "cell_type": "markdown",
   "id": "1ac62982",
   "metadata": {},
   "source": [
    "- int, bin, oct, hex : 문자열을 진수 변환"
   ]
  },
  {
   "cell_type": "code",
   "execution_count": 3,
   "id": "cf715335",
   "metadata": {},
   "outputs": [
    {
     "name": "stdout",
     "output_type": "stream",
     "text": [
      "4112\n",
      "0x1010\n"
     ]
    }
   ],
   "source": [
    "print(f\"{int('1010',16)}\")\n",
    "print(f\"{hex(int('1010',16))}\")"
   ]
  },
  {
   "cell_type": "markdown",
   "id": "441cc492",
   "metadata": {},
   "source": [
    "- filter : 시퀀스(리스트, 튜플 등)의 각 원소에서 true인 결과만 모아줌"
   ]
  },
  {
   "cell_type": "code",
   "execution_count": 4,
   "id": "2ae307b1",
   "metadata": {},
   "outputs": [
    {
     "name": "stdout",
     "output_type": "stream",
     "text": [
      "True\n",
      "['this', 'test']\n"
     ]
    }
   ],
   "source": [
    "mylist = ['this', 'is', 'a', 'test']\n",
    "def isGood(x):\n",
    "    if len(x)>2:\n",
    "        return True\n",
    "    else:\n",
    "        return False\n",
    "print(f\"{isGood('hello')}\")\n",
    "newlist = list(filter(isGood, mylist))\n",
    "print(f\"{newlist}\")"
   ]
  },
  {
   "cell_type": "markdown",
   "id": "59913628",
   "metadata": {},
   "source": [
    "- map : 시퀀스의 각 원소에서 func 호출 결과 반환\n",
    "- zip : 두 리스트를 튜플(쌍)으로 만들어줌"
   ]
  },
  {
   "cell_type": "markdown",
   "id": "4fb97162",
   "metadata": {},
   "source": [
    "### +\n",
    "\n",
    "타입힌트 사용: dir(타입)\n",
    "AI 지식 내 것으로 만들기 등으로\n",
    "자기학습이 필요해"
   ]
  },
  {
   "cell_type": "code",
   "execution_count": 9,
   "id": "fbcd1600",
   "metadata": {},
   "outputs": [
    {
     "name": "stdout",
     "output_type": "stream",
     "text": [
      "My name is Song\n",
      "내이름은 brown이고, 나이는20살입니다.\n",
      "                      brown                       \n"
     ]
    }
   ],
   "source": [
    "age = 3\n",
    "name = 'Allice'\n",
    "age: int = 20\n",
    "name: str = 'brown'\n",
    "print('My name is {n}'.format(n='Song'))\n",
    "newstring = f\"내이름은 {name}이고, 나이는{age}살입니다.\"\n",
    "print(newstring)\n",
    "print(f\"{name:^50}\")"
   ]
  }
 ],
 "metadata": {
  "kernelspec": {
   "display_name": "Python 3",
   "language": "python",
   "name": "python3"
  },
  "language_info": {
   "codemirror_mode": {
    "name": "ipython",
    "version": 3
   },
   "file_extension": ".py",
   "mimetype": "text/x-python",
   "name": "python",
   "nbconvert_exporter": "python",
   "pygments_lexer": "ipython3",
   "version": "3.12.0"
  }
 },
 "nbformat": 4,
 "nbformat_minor": 5
}
