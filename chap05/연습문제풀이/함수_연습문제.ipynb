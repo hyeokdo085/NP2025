{
 "cells": [
  {
   "cell_type": "markdown",
   "id": "2f8ce092",
   "metadata": {},
   "source": [
    "## 챕터 5 함수 연습문제 풀이"
   ]
  },
  {
   "cell_type": "markdown",
   "id": "c23b279c",
   "metadata": {},
   "source": [
    "### 1.\n",
    "\n",
    "두 개의 매개변수 n,m을 전달받아 m x n개의 *상자를 출력하는 프로그램을 함수로 작성"
   ]
  },
  {
   "cell_type": "code",
   "execution_count": 7,
   "id": "fc300489",
   "metadata": {},
   "outputs": [
    {
     "name": "stdout",
     "output_type": "stream",
     "text": [
      "****\n",
      "****\n",
      "****\n"
     ]
    }
   ],
   "source": [
    "def box(h:int,w:int):\n",
    "    if h <= 0 or w <= 0 :\n",
    "        print(\"높이나 길이는 0이나 음수가 될 수 없습니다.\")\n",
    "        return -1\n",
    "    i = 1 \n",
    "    while i <= h :\n",
    "        j = 1\n",
    "        while j <= w:\n",
    "            print(\"*\", end='')\n",
    "            j = j+1\n",
    "        print(\"\\n\", end='')\n",
    "        i = i+1\n",
    "\n",
    "in_str = str(input(\"높이와 길이를 입력하세요(예:3 5) \"))\n",
    "h, w = map(int,in_str.split())\n",
    "box(h, w)"
   ]
  },
  {
   "cell_type": "markdown",
   "id": "1c8f3459",
   "metadata": {},
   "source": [
    "### 2.\n",
    "\n",
    "하나의 숫자를 전달받아 숫자의 자리 합을 구하는 함수를 작성 (예: 123 => 1+2+3 = 6)"
   ]
  },
  {
   "cell_type": "code",
   "execution_count": null,
   "id": "2b1f0307",
   "metadata": {},
   "outputs": [
    {
     "name": "stdout",
     "output_type": "stream",
     "text": [
      "입력한 숫자 15673의 각 자리수의 합은 \n",
      "1+5+6+7+3 = 22\n"
     ]
    }
   ],
   "source": [
    "def digit_add(num:str):\n",
    "    sum = 0\n",
    "    for i in num:\n",
    "        sum = sum + int(i)\n",
    "        print(f\"{i}+\", end='')\n",
    "    print(f\"\\b = {sum}\") #\\b는 백스페이스\n",
    "\n",
    "num = str(input(\"숫자 입력 \"))\n",
    "print(f\"입력한 숫자 {num}의 각 자리수의 합은 \")\n",
    "digit_add(num)\n"
   ]
  },
  {
   "cell_type": "markdown",
   "id": "98f40482",
   "metadata": {},
   "source": [
    "### 3.\n",
    "\n",
    "두 개의 문자열이 서로 다른 처음 위치를 반환하는 함수를 작성. 두 개의 문자열이 같으면 -1을 반환"
   ]
  },
  {
   "cell_type": "code",
   "execution_count": null,
   "id": "2025d990",
   "metadata": {},
   "outputs": [
    {
     "name": "stdout",
     "output_type": "stream",
     "text": [
      "6 번째 글자가 다릅니다.\n"
     ]
    }
   ],
   "source": [
    "def str_diff(str1:str, str2:str):\n",
    "    for i in range(min(len(str1), len(str2))): #min은 둘 중 작은 값을 반환\n",
    "        if str1[i] != str2[i]:\n",
    "            return i+1 #몇 번째 글자가 다른지 반환\n",
    "    if len(str1) != len(str2):\n",
    "        return len(str1)+1 #길이가 다르면 그 다음 글자가 다름\n",
    "    print(\"두 문자열이 같습니다.\")\n",
    "    return -1 #두 문자열이 같으면 -1 반환\n",
    "\n",
    "str1 = str(input(\"첫 번째 문자열 입력 \"))\n",
    "str2 = str(input(\"두 번째 문자열 입력 \"))\n",
    "print(f\"{str_diff(str1, str2)} 번째 글자가 다릅니다.\")"
   ]
  },
  {
   "cell_type": "markdown",
   "id": "74313d56",
   "metadata": {},
   "source": [
    "### 4.\n",
    "\n",
    "숫자를 전달받아 그 수의 약수 리스트로 반환하는 함수를 작성"
   ]
  },
  {
   "cell_type": "code",
   "execution_count": 19,
   "id": "e82c20f8",
   "metadata": {},
   "outputs": [
    {
     "name": "stdout",
     "output_type": "stream",
     "text": [
      "54의 약수 리스트는 [1, 2, 3, 6, 9, 18, 27, 54]입니다.\n"
     ]
    }
   ],
   "source": [
    "def divisor_list(num:int):\n",
    "    div_list = []\n",
    "    for i in range(1, num+1):\n",
    "        if num % i == 0:\n",
    "            div_list.append(i)\n",
    "    return div_list\n",
    "\n",
    "num = int(input(\"수 입력 \"))\n",
    "print(f\"{num}의 약수 리스트는 {divisor_list(num)}입니다.\")"
   ]
  },
  {
   "cell_type": "markdown",
   "id": "bb94568b",
   "metadata": {},
   "source": [
    "### 5.\n",
    "\n",
    "문자열과 하나의 문자를 전달받아 문자열에서 문자의 위치를 모두 찾아 리스트로 반환하는 함수를 작성"
   ]
  },
  {
   "cell_type": "code",
   "execution_count": 21,
   "id": "a426c7d7",
   "metadata": {},
   "outputs": [
    {
     "name": "stdout",
     "output_type": "stream",
     "text": [
      "같은 문자의 위치 = [1, 6, 9]번 인덱스\n"
     ]
    }
   ],
   "source": [
    "def find_same_str(str3:str, char1:str):\n",
    "    same_str_list = []\n",
    "    for i in range(len(str3)):\n",
    "        if str3[i] == char1:\n",
    "            same_str_list.append(i)\n",
    "    return same_str_list\n",
    "\n",
    "str3 = str(input(\"문자열 입력 \"))\n",
    "char1 = str(input(\"문자 입력 \"))\n",
    "print(f\"같은 문자의 위치 = {find_same_str(str3, char1)}번 인덱스\")\n",
    "    "
   ]
  },
  {
   "cell_type": "markdown",
   "id": "bc507c66",
   "metadata": {},
   "source": [
    "### 6.\n",
    "\n",
    "재귀 함수를 이용하여 1부터 100까지의 합을 계산하는 프로그램"
   ]
  },
  {
   "cell_type": "code",
   "execution_count": 23,
   "id": "5f9a6c04",
   "metadata": {},
   "outputs": [
    {
     "name": "stdout",
     "output_type": "stream",
     "text": [
      "1부터 100까지의 합 = 5050\n"
     ]
    }
   ],
   "source": [
    "def add_to_100(n):\n",
    "    if n == 1:\n",
    "        return 1\n",
    "    sum = n + add_to_100(n-1)\n",
    "    return sum\n",
    "\n",
    "n = 100\n",
    "print(f\"1부터 {n}까지의 합 = {add_to_100(n)}\")\n",
    "    "
   ]
  }
 ],
 "metadata": {
  "kernelspec": {
   "display_name": "Python 3",
   "language": "python",
   "name": "python3"
  },
  "language_info": {
   "codemirror_mode": {
    "name": "ipython",
    "version": 3
   },
   "file_extension": ".py",
   "mimetype": "text/x-python",
   "name": "python",
   "nbconvert_exporter": "python",
   "pygments_lexer": "ipython3",
   "version": "3.12.0"
  }
 },
 "nbformat": 4,
 "nbformat_minor": 5
}
