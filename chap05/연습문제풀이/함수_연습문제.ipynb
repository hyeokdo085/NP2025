{
 "cells": [
  {
   "cell_type": "markdown",
   "id": "2f8ce092",
   "metadata": {},
   "source": [
    "## 챕터 5 함수 연습문제 풀이"
   ]
  },
  {
   "cell_type": "markdown",
   "id": "c23b279c",
   "metadata": {},
   "source": [
    "### 1.\n",
    "\n",
    "두 개의 매개변수 n,m을 전달받아 m x n개의 *상자를 출력하는 프로그램을 함수로 작성"
   ]
  },
  {
   "cell_type": "code",
   "execution_count": 7,
   "id": "fc300489",
   "metadata": {},
   "outputs": [
    {
     "name": "stdout",
     "output_type": "stream",
     "text": [
      "****\n",
      "****\n",
      "****\n"
     ]
    }
   ],
   "source": [
    "def box(h:int,w:int):\n",
    "    if h <= 0 or w <= 0 :\n",
    "        print(\"높이나 길이는 0이나 음수가 될 수 없습니다.\")\n",
    "        return -1\n",
    "    i = 1 \n",
    "    while i <= h :\n",
    "        j = 1\n",
    "        while j <= w:\n",
    "            print(\"*\", end='')\n",
    "            j = j+1\n",
    "        print(\"\\n\", end='')\n",
    "        i = i+1\n",
    "\n",
    "in_str = str(input(\"높이와 길이를 입력하세요(예:3 5) \"))\n",
    "h, w = map(int,in_str.split())\n",
    "box(h, w)"
   ]
  },
  {
   "cell_type": "markdown",
   "id": "1c8f3459",
   "metadata": {},
   "source": [
    "### 2.\n",
    "\n",
    "하나의 숫자를 전달받아 숫자의 자리 합을 구하는 함수를 작성 (예: 123 => 1+2+3 = 6)"
   ]
  },
  {
   "cell_type": "code",
   "execution_count": null,
   "id": "2b1f0307",
   "metadata": {},
   "outputs": [],
   "source": [
    "def digit_add(num:str):\n",
    "    \n"
   ]
  },
  {
   "cell_type": "markdown",
   "id": "98f40482",
   "metadata": {},
   "source": [
    "### 3.\n",
    "\n",
    "두 개의 문자열이 서로 다른 처음 위치를 반환하는 함수를 작성. 두 개의 문자열이 같으면 -1을 반환"
   ]
  },
  {
   "cell_type": "markdown",
   "id": "74313d56",
   "metadata": {},
   "source": [
    "### 4.\n",
    "\n",
    "숫자를 전달받아 그 수의 약수 리스트로 반환하는 함수를 작성"
   ]
  },
  {
   "cell_type": "markdown",
   "id": "bb94568b",
   "metadata": {},
   "source": [
    "### 5.\n",
    "\n",
    "문자열과 하나의 문자를 전달받아 문자열에서 문자의 위치를 모두 찾아 리스트로 반환하는 함수를 작성"
   ]
  },
  {
   "cell_type": "markdown",
   "id": "bc507c66",
   "metadata": {},
   "source": [
    "### 6.\n",
    "\n",
    "재귀 함수를 이용하여 1부터 100까지의 합을 계산하는 프로그램"
   ]
  }
 ],
 "metadata": {
  "kernelspec": {
   "display_name": "Python 3",
   "language": "python",
   "name": "python3"
  },
  "language_info": {
   "codemirror_mode": {
    "name": "ipython",
    "version": 3
   },
   "file_extension": ".py",
   "mimetype": "text/x-python",
   "name": "python",
   "nbconvert_exporter": "python",
   "pygments_lexer": "ipython3",
   "version": "3.12.0"
  }
 },
 "nbformat": 4,
 "nbformat_minor": 5
}
