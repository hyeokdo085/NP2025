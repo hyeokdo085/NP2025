{
 "cells": [
  {
   "cell_type": "markdown",
   "id": "badecc58",
   "metadata": {},
   "source": [
    "## 챕터 2 멤버 연산자 연습문제"
   ]
  },
  {
   "cell_type": "markdown",
   "id": "f7f0f00f",
   "metadata": {},
   "source": [
    "### 1.\n",
    "\n",
    "숫자 7이 리스트 [1,2,3,4,5]에 포함되어 있는지 검사하는 프로그램을 작성하라."
   ]
  },
  {
   "cell_type": "code",
   "execution_count": 1,
   "id": "d41ac0a6",
   "metadata": {},
   "outputs": [
    {
     "name": "stdout",
     "output_type": "stream",
     "text": [
      "False\n"
     ]
    }
   ],
   "source": [
    "num = [1, 2, 3, 4, 5]\n",
    "print(7 in num)"
   ]
  },
  {
   "cell_type": "markdown",
   "id": "89a8755c",
   "metadata": {},
   "source": [
    "### 2.\n",
    "\n",
    "문자열 \"apple\"이 세트 {\"orange\", \"banana\", \"kiwi\"}에 포함되어 있는지 검사하는 프로그램을 작성하라."
   ]
  },
  {
   "cell_type": "code",
   "execution_count": null,
   "id": "29ef3e61",
   "metadata": {},
   "outputs": [
    {
     "name": "stdout",
     "output_type": "stream",
     "text": [
      "True\n"
     ]
    }
   ],
   "source": [
    "fruit = {\"orange\", \"banana\", \"kiwi\"}\n",
    "print(\"apple\" in fruit)"
   ]
  },
  {
   "cell_type": "markdown",
   "id": "b9b87620",
   "metadata": {},
   "source": [
    "### 3.\n",
    "숫자 6이 딕셔너리 {\"a\":1, \"b\":2, \"c\":3, \"d\":4}의 값들 중 하나인지 검사하는 프로그램을 작성하라."
   ]
  },
  {
   "cell_type": "code",
   "execution_count": 4,
   "id": "e8953aa3",
   "metadata": {},
   "outputs": [
    {
     "name": "stdout",
     "output_type": "stream",
     "text": [
      "False\n"
     ]
    }
   ],
   "source": [
    "num = {\"a\":1, \"b\":2, \"c\":3, \"d\":4}\n",
    "print(6 in num)"
   ]
  },
  {
   "cell_type": "markdown",
   "id": "f3ba6bb4",
   "metadata": {},
   "source": [
    "### 4.\n",
    "\n",
    "문자열 \"cat\"이 튜플 (\"dog\", \"cat\", \"bird\", \"hamster\")에 포함되어 있는지 검사하는 프로그램을 작성하라."
   ]
  },
  {
   "cell_type": "code",
   "execution_count": 5,
   "id": "6f545a99",
   "metadata": {},
   "outputs": [
    {
     "name": "stdout",
     "output_type": "stream",
     "text": [
      "True\n"
     ]
    }
   ],
   "source": [
    "animal = (\"dog\", \"cat\", \"bird\", \"hamster\")\n",
    "print(\"cat\" in animal)"
   ]
  },
  {
   "cell_type": "markdown",
   "id": "ae1c15c1",
   "metadata": {},
   "source": [
    "### 5.\n",
    "\n",
    "숫자 10이 세트 {2,4,6,8,10}에 포함되어 있는지 검사하는 프로그램을 작성하라."
   ]
  },
  {
   "cell_type": "code",
   "execution_count": 1,
   "id": "fc6dfe3a",
   "metadata": {},
   "outputs": [
    {
     "name": "stdout",
     "output_type": "stream",
     "text": [
      "True\n"
     ]
    }
   ],
   "source": [
    "num = {2,4,6,8,10}\n",
    "print(10 in num)"
   ]
  }
 ],
 "metadata": {
  "kernelspec": {
   "display_name": "Python 3",
   "language": "python",
   "name": "python3"
  },
  "language_info": {
   "codemirror_mode": {
    "name": "ipython",
    "version": 3
   },
   "file_extension": ".py",
   "mimetype": "text/x-python",
   "name": "python",
   "nbconvert_exporter": "python",
   "pygments_lexer": "ipython3",
   "version": "3.12.0"
  }
 },
 "nbformat": 4,
 "nbformat_minor": 5
}
