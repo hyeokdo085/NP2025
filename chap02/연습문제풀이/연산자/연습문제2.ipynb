{
 "cells": [
  {
   "cell_type": "markdown",
   "id": "4a01528f",
   "metadata": {},
   "source": [
    "## 챕터 2 연산자 연습문제 풀이"
   ]
  },
  {
   "cell_type": "markdown",
   "id": "f82ed163",
   "metadata": {},
   "source": [
    "### 1.\n",
    "\n",
    "초를 입력하면 분과 초로 표시하는 프로그램. 예를 들어, 200초를 입력하면 3분 20초로 표현하라."
   ]
  },
  {
   "cell_type": "code",
   "execution_count": 5,
   "id": "14ccefaf",
   "metadata": {},
   "outputs": [
    {
     "name": "stdout",
     "output_type": "stream",
     "text": [
      "67초는 1분 7초입니다.\n"
     ]
    }
   ],
   "source": [
    "in_sec = int(input('초를 입력하세요. '))\n",
    "min, out_sec = 0, 0\n",
    "min = in_sec//60\n",
    "out_sec = in_sec%60\n",
    "print(f\"{in_sec}초는 {min}분 {out_sec}초입니다.\")"
   ]
  },
  {
   "cell_type": "markdown",
   "id": "3a9dff27",
   "metadata": {},
   "source": [
    "### 2.\n",
    "\n",
    "분(min)을 입력하면, 일, 시간, 분으로 출력하는 프로그램을 만들어라. (예 : 1550분은 1일 1시간 50분)"
   ]
  },
  {
   "cell_type": "code",
   "execution_count": 6,
   "id": "3f1e013f",
   "metadata": {},
   "outputs": [
    {
     "name": "stdout",
     "output_type": "stream",
     "text": [
      "1550분은 1일 1시간 50분 입니다.\n"
     ]
    }
   ],
   "source": [
    "in_min = int(input('분을 입력하세요. '))\n",
    "day, hour, out_min = 0, 0, 0\n",
    "day = in_min//1440\n",
    "out_min = in_min%1440\n",
    "hour = out_min//60\n",
    "out_min = out_min%60\n",
    "print(f\"{in_min}분은 {day}일 {hour}시간 {out_min}분 입니다.\")\n"
   ]
  },
  {
   "cell_type": "markdown",
   "id": "3339cbd9",
   "metadata": {},
   "source": [
    "### 3.\n",
    "\n",
    "500만원을 연이율 5%로 복리 저금했을 때, 5년 후의 원리금의 합계를 출력하는 프로그램."
   ]
  },
  {
   "cell_type": "code",
   "execution_count": 7,
   "id": "b79e8f69",
   "metadata": {},
   "outputs": [
    {
     "name": "stdout",
     "output_type": "stream",
     "text": [
      "500만원을 연이율 5%로 5년간 복리 저금하면,\n",
      "원리금은 6381407.81원 입니다.\n"
     ]
    }
   ],
   "source": [
    "origin_price = 5000000\n",
    "rate = 0.05\n",
    "years = 5\n",
    "total_price = origin_price*(1+rate)**years\n",
    "print(f\"500만원을 연이율 5%로 5년간 복리 저금하면,\")\n",
    "print(f\"원리금은 {total_price:.2f}원 입니다.\")"
   ]
  },
  {
   "cell_type": "markdown",
   "id": "e78b61b7",
   "metadata": {},
   "source": [
    "### 4.\n",
    "\n",
    "1부터 n까지의 합은 n(n+1)/2로 주어진다. 1부터 100까지의 합을 구하여 출력하는 프로그램을 작성하고 실행하라."
   ]
  },
  {
   "cell_type": "code",
   "execution_count": 14,
   "id": "f5ad0da6",
   "metadata": {},
   "outputs": [
    {
     "name": "stdout",
     "output_type": "stream",
     "text": [
      "1부터 100까지의 합은 5050입니다.\n"
     ]
    }
   ],
   "source": [
    "n = 100\n",
    "total = n*(n+1)//2\n",
    "print(f\"1부터 100까지의 합은 {total}입니다.\")"
   ]
  },
  {
   "cell_type": "markdown",
   "id": "0918cc1a",
   "metadata": {},
   "source": [
    "### 5.\n",
    "\n",
    "판매자가 딸기와 포도를 판매하고 있다. 포도 한 알의 무게는 75g이고 딸기 한 알의 무게는 113.5g이다. 사용자로부터 포도 알의 개수와 딸기의 개수를 입력받아 총 무게를 계산하여 출력하는 프로그램을 작성하고 실행하라."
   ]
  },
  {
   "cell_type": "code",
   "execution_count": 15,
   "id": "05f9e314",
   "metadata": {},
   "outputs": [
    {
     "name": "stdout",
     "output_type": "stream",
     "text": [
      "포도알 5개와 딸기11개의 총 무게는 1623.5g 입니다.\n"
     ]
    }
   ],
   "source": [
    "grape = int(input('포도 알의 개수? '))\n",
    "berry = int(input('딸기의 개수? '))\n",
    "total_g = grape*75+berry*113.5\n",
    "print(f\"포도알 {grape}개와 딸기{berry}개의 총 무게는 {total_g}g 입니다.\")"
   ]
  }
 ],
 "metadata": {
  "kernelspec": {
   "display_name": "Python 3",
   "language": "python",
   "name": "python3"
  },
  "language_info": {
   "codemirror_mode": {
    "name": "ipython",
    "version": 3
   },
   "file_extension": ".py",
   "mimetype": "text/x-python",
   "name": "python",
   "nbconvert_exporter": "python",
   "pygments_lexer": "ipython3",
   "version": "3.12.0"
  }
 },
 "nbformat": 4,
 "nbformat_minor": 5
}
