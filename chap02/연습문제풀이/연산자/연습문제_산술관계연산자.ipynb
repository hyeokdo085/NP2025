{
 "cells": [
  {
   "cell_type": "markdown",
   "id": "8466b8c3",
   "metadata": {},
   "source": [
    "## 챕터 2 산술 및 관계 연산자 연습문제"
   ]
  },
  {
   "cell_type": "markdown",
   "id": "a0e1deb3",
   "metadata": {},
   "source": [
    "### 1.\n",
    "\n",
    "5와 3을 더한 값을 출력하는 프로그램을 작성하라."
   ]
  },
  {
   "cell_type": "code",
   "execution_count": 2,
   "id": "6cfc53a7",
   "metadata": {},
   "outputs": [
    {
     "name": "stdout",
     "output_type": "stream",
     "text": [
      "5 + 3 = 8\n"
     ]
    }
   ],
   "source": [
    "print(f\"5 + 3 = {5+3}\")"
   ]
  },
  {
   "cell_type": "markdown",
   "id": "dd6608f8",
   "metadata": {},
   "source": [
    "### 2.\n",
    "\n",
    "7에서 3을 뺀 값을 출력하는 프로그램을 작성하라."
   ]
  },
  {
   "cell_type": "code",
   "execution_count": 3,
   "id": "95bcc522",
   "metadata": {},
   "outputs": [
    {
     "name": "stdout",
     "output_type": "stream",
     "text": [
      "7 - 3 = 4\n"
     ]
    }
   ],
   "source": [
    "print(f\"7 - 3 = {7-3}\")"
   ]
  },
  {
   "cell_type": "markdown",
   "id": "af4b2e20",
   "metadata": {},
   "source": [
    "### 3.\n",
    "\n",
    "4를 2로 나눈 값을 출력하는 프로그램을 작성하라."
   ]
  },
  {
   "cell_type": "code",
   "execution_count": 4,
   "id": "fa7b1f67",
   "metadata": {},
   "outputs": [
    {
     "name": "stdout",
     "output_type": "stream",
     "text": [
      "4 / 2 = 2.0\n"
     ]
    }
   ],
   "source": [
    "print(f\"4 / 2 = {4/2}\")"
   ]
  },
  {
   "cell_type": "markdown",
   "id": "fca82f05",
   "metadata": {},
   "source": [
    "### 4.\n",
    "\n",
    "8을 3으로 나눈 몫과 나머지를 출력하는 프로그램을 작성하라."
   ]
  },
  {
   "cell_type": "code",
   "execution_count": 5,
   "id": "766943c2",
   "metadata": {},
   "outputs": [
    {
     "name": "stdout",
     "output_type": "stream",
     "text": [
      "8을 3으로 나눈 몫은 2, 나머지는 2\n"
     ]
    }
   ],
   "source": [
    "print(f\"8을 3으로 나눈 몫은 {8//3}, 나머지는 {8%3}\")"
   ]
  },
  {
   "cell_type": "markdown",
   "id": "0f55e675",
   "metadata": {},
   "source": [
    "### 5.\n",
    "\n",
    "2의 5제곱을 출력하는 프로그램을 작성하라."
   ]
  },
  {
   "cell_type": "code",
   "execution_count": 6,
   "id": "0ba0b9e9",
   "metadata": {},
   "outputs": [
    {
     "name": "stdout",
     "output_type": "stream",
     "text": [
      "2의 5승은 32\n"
     ]
    }
   ],
   "source": [
    "print(f\"2의 5승은 {2**5}\")"
   ]
  },
  {
   "cell_type": "markdown",
   "id": "acab9d68",
   "metadata": {},
   "source": [
    "### 6.\n",
    "\n",
    "입력된 정수가 10보다 크고 20보다 작은지 검사하는 프로그램을 작성하라"
   ]
  },
  {
   "cell_type": "code",
   "execution_count": 9,
   "id": "e57e7dec",
   "metadata": {},
   "outputs": [
    {
     "name": "stdout",
     "output_type": "stream",
     "text": [
      "20는 10보다 크고 20보다 작은가? False\n"
     ]
    }
   ],
   "source": [
    "a = int(input('정수를 입력하세요: '))\n",
    "print(f\"{a}는 10보다 크고 20보다 작은가? {10<a<20}\")"
   ]
  },
  {
   "cell_type": "markdown",
   "id": "1589113d",
   "metadata": {},
   "source": [
    "### 7.\n",
    "문자열 \"hello\"와 문자열 \"world\"를 이어 붙인 결과를 출력하는 프로그램을 작성하라."
   ]
  },
  {
   "cell_type": "code",
   "execution_count": 10,
   "id": "2bd10af6",
   "metadata": {},
   "outputs": [
    {
     "name": "stdout",
     "output_type": "stream",
     "text": [
      "hello와 world를 붙인 결과 : helloworld\n"
     ]
    }
   ],
   "source": [
    "h = str('hello')\n",
    "w = str('world')\n",
    "print(f\"{h}와 {w}를 붙인 결과 : {h+w}\")"
   ]
  },
  {
   "cell_type": "markdown",
   "id": "58dae110",
   "metadata": {},
   "source": [
    "### 8.\n",
    "\n",
    "7을 2로 나눈 결과가 3보다 작은지 검사하는 프로그램을 작성하라."
   ]
  },
  {
   "cell_type": "code",
   "execution_count": 11,
   "id": "5960e494",
   "metadata": {},
   "outputs": [
    {
     "name": "stdout",
     "output_type": "stream",
     "text": [
      "7을 2로 나눈 결과가 3보다 작은가? False\n"
     ]
    }
   ],
   "source": [
    "print(f\"7을 2로 나눈 결과가 3보다 작은가? {7/2<3}\")"
   ]
  },
  {
   "cell_type": "markdown",
   "id": "7383f5b7",
   "metadata": {},
   "source": [
    "### 9.\n",
    "\n",
    "변수 x의 값이 5와 같지 않은지 검사하는 프로그램을 작성하라."
   ]
  },
  {
   "cell_type": "code",
   "execution_count": 15,
   "id": "562d743a",
   "metadata": {},
   "outputs": [
    {
     "name": "stdout",
     "output_type": "stream",
     "text": [
      "변수 x는 5와 같지 않은가? True\n"
     ]
    }
   ],
   "source": [
    "x = int(input('변수 x를 입력하세요: '))\n",
    "print(f\"변수 x는 5와 같지 않은가? {x!=5}\")"
   ]
  },
  {
   "cell_type": "markdown",
   "id": "09705714",
   "metadata": {},
   "source": [
    "### 10.\n",
    "\n",
    "변수 y의 값이 10에서 20 사이의 값인지 검사하는 프로그램을 작성하라."
   ]
  },
  {
   "cell_type": "code",
   "execution_count": 1,
   "id": "7e794eb1",
   "metadata": {},
   "outputs": [
    {
     "name": "stdout",
     "output_type": "stream",
     "text": [
      "변수 y는 10에서 20 사이의 값인가? True\n"
     ]
    }
   ],
   "source": [
    "y = int(input('변수 y를 입력하세요: '))\n",
    "print(f\"변수 y는 10에서 20 사이의 값인가? {10<=y<=20}\")"
   ]
  }
 ],
 "metadata": {
  "kernelspec": {
   "display_name": "Python 3",
   "language": "python",
   "name": "python3"
  },
  "language_info": {
   "codemirror_mode": {
    "name": "ipython",
    "version": 3
   },
   "file_extension": ".py",
   "mimetype": "text/x-python",
   "name": "python",
   "nbconvert_exporter": "python",
   "pygments_lexer": "ipython3",
   "version": "3.12.0"
  }
 },
 "nbformat": 4,
 "nbformat_minor": 5
}
