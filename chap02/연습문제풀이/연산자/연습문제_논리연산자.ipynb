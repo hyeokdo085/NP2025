{
 "cells": [
  {
   "cell_type": "markdown",
   "id": "35febcd4",
   "metadata": {},
   "source": [
    "## 챕터 2 논리 연산자 연습문제"
   ]
  },
  {
   "cell_type": "markdown",
   "id": "5dff7c59",
   "metadata": {},
   "source": [
    "### 1.\n",
    "\n",
    "5가 3보다 크고 7보다 작은지 검사하는 프로그램을 작성하라."
   ]
  },
  {
   "cell_type": "code",
   "execution_count": 1,
   "id": "8ac77214",
   "metadata": {},
   "outputs": [
    {
     "name": "stdout",
     "output_type": "stream",
     "text": [
      "True\n"
     ]
    }
   ],
   "source": [
    "print(5>3 and 5<7)"
   ]
  },
  {
   "cell_type": "markdown",
   "id": "5c508302",
   "metadata": {},
   "source": [
    "### 2.\n",
    "\n",
    "변수 x가 10 이상이고 20 이하인지 검사하는 프로그램을 작성하라"
   ]
  },
  {
   "cell_type": "code",
   "execution_count": null,
   "id": "bcc96748",
   "metadata": {},
   "outputs": [
    {
     "name": "stdout",
     "output_type": "stream",
     "text": [
      "변수 x는 10 이상이고 20이하인가? True\n"
     ]
    }
   ],
   "source": [
    "x = int(input('변수 x를 입력하세요. '))\n",
    "print(f\"변수 x는 10 이상이고 20이하인가? {10<=x and x<=20}\")"
   ]
  },
  {
   "cell_type": "markdown",
   "id": "fd1e0c9b",
   "metadata": {},
   "source": [
    "### 3.\n",
    "\n",
    "변수 y가 5의 배수이거나 7의 배수인지 검사하는 프로그램을 작성하라."
   ]
  },
  {
   "cell_type": "code",
   "execution_count": 9,
   "id": "c9fe38f7",
   "metadata": {},
   "outputs": [
    {
     "name": "stdout",
     "output_type": "stream",
     "text": [
      "변수 y는 5의 배수이거나 7의 배수인가? True\n"
     ]
    }
   ],
   "source": [
    "y = int(input('변수 y를 입력하세요. '))\n",
    "print(f\"변수 y는 5의 배수이거나 7의 배수인가? {(y%5==0 or y%7==0) and y!=0}\")"
   ]
  },
  {
   "cell_type": "markdown",
   "id": "8a60ea14",
   "metadata": {},
   "source": [
    "### 4.\n",
    "\n",
    "변수 z가 양수이면서 짝수인지 검사하는 프로그램을 작성하라."
   ]
  },
  {
   "cell_type": "code",
   "execution_count": null,
   "id": "63c528d7",
   "metadata": {},
   "outputs": [
    {
     "name": "stdout",
     "output_type": "stream",
     "text": [
      "변수 z는 양수이면ㅅ 짝수인가? False\n"
     ]
    }
   ],
   "source": [
    "z = int(input('변수 z를 입력하세요. '))\n",
    "print(f\"변수 z는 양수이면서 짝수인가? {0<z and z%2==0}\")"
   ]
  },
  {
   "cell_type": "markdown",
   "id": "bd3c4b2d",
   "metadata": {},
   "source": [
    "### 5.\n",
    "\n",
    "변수 a가 문자열 \"hello\"나 문자열 \"world\" 중 하나인지 검사하는 프로그램을 작성하라."
   ]
  },
  {
   "cell_type": "code",
   "execution_count": 1,
   "id": "f82dd56d",
   "metadata": {},
   "outputs": [
    {
     "name": "stdout",
     "output_type": "stream",
     "text": [
      "변수 a가 문자열 hello나 문자열 world인가? True\n"
     ]
    }
   ],
   "source": [
    "a = str(input('변수 a를 입력하세요 '))\n",
    "print(f\"변수 a가 문자열 hello나 문자열 world인가? {a=='hello' or a=='world'}\")"
   ]
  }
 ],
 "metadata": {
  "kernelspec": {
   "display_name": "Python 3",
   "language": "python",
   "name": "python3"
  },
  "language_info": {
   "codemirror_mode": {
    "name": "ipython",
    "version": 3
   },
   "file_extension": ".py",
   "mimetype": "text/x-python",
   "name": "python",
   "nbconvert_exporter": "python",
   "pygments_lexer": "ipython3",
   "version": "3.12.0"
  }
 },
 "nbformat": 4,
 "nbformat_minor": 5
}
