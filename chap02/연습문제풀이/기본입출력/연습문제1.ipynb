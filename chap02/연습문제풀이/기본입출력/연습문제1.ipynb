{
 "cells": [
  {
   "cell_type": "markdown",
   "id": "86bc24f4",
   "metadata": {},
   "source": [
    "## 챕터 2 기본입출력 연습문제 풀이"
   ]
  },
  {
   "cell_type": "markdown",
   "id": "7563bcb6",
   "metadata": {},
   "source": [
    "### 1. \n",
    "\n",
    "키보드에서 임의의 두 실수를 입력받아 곱한 후 그 결과를 출력하는 프로그램을 작성하고 실행하라."
   ]
  },
  {
   "cell_type": "code",
   "execution_count": 5,
   "id": "3785a24d",
   "metadata": {},
   "outputs": [
    {
     "name": "stdout",
     "output_type": "stream",
     "text": [
      "3.4 X 5.2 = 17.68 입니다.\n"
     ]
    }
   ],
   "source": [
    "a = float(input('수를 입력하세요: '))\n",
    "b = float(input('곱할 수를 입력하세요: '))\n",
    "print(f\"{a} X {b} = {a*b} 입니다.\")"
   ]
  },
  {
   "cell_type": "markdown",
   "id": "e07b3445",
   "metadata": {},
   "source": [
    "### 2. \n",
    "\n",
    "1마일은 1.609km이다. 키보드에서 마일(정수)을 입력 받아 km로 변환해 출력하는 프로그램을 작성하고 실행하라."
   ]
  },
  {
   "cell_type": "code",
   "execution_count": 6,
   "id": "118bcb29",
   "metadata": {},
   "outputs": [
    {
     "name": "stdout",
     "output_type": "stream",
     "text": [
      "5 마일은 8.045km 입니다.\n"
     ]
    }
   ],
   "source": [
    "a = int(input('마일? '))\n",
    "print(f\"{a} 마일은 {a*1.609}km 입니다.\")"
   ]
  },
  {
   "cell_type": "markdown",
   "id": "5778aa1a",
   "metadata": {},
   "source": [
    "### 3.\n",
    "\n",
    "원의 반지름을 입력받아 원의 둘레와 원의 면적을 출력하는 프로그램을 작성하라."
   ]
  },
  {
   "cell_type": "code",
   "execution_count": 1,
   "id": "18b338e0",
   "metadata": {},
   "outputs": [
    {
     "name": "stdout",
     "output_type": "stream",
     "text": [
      "반지름이 5.5인 원의\n",
      "둘레는 34.557512이고,\n",
      "면적은 95.033158입니다.\n"
     ]
    }
   ],
   "source": [
    "r = float(input('원의 반지름? '))\n",
    "pie = float(3.141592)\n",
    "print(f\"반지름이 {r}인 원의\")\n",
    "print(f\"둘레는 {2*pie*r}이고,\")\n",
    "print(f\"면적은 {pie*r**2}입니다.\")"
   ]
  }
 ],
 "metadata": {
  "kernelspec": {
   "display_name": "Python 3",
   "language": "python",
   "name": "python3"
  },
  "language_info": {
   "codemirror_mode": {
    "name": "ipython",
    "version": 3
   },
   "file_extension": ".py",
   "mimetype": "text/x-python",
   "name": "python",
   "nbconvert_exporter": "python",
   "pygments_lexer": "ipython3",
   "version": "3.12.0"
  }
 },
 "nbformat": 4,
 "nbformat_minor": 5
}
