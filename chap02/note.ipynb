{
 "cells": [
  {
   "cell_type": "markdown",
   "id": "5c550d8d",
   "metadata": {},
   "source": [
    "## 2장 노트정리\n",
    "\n",
    "이 파일은 2장 학습하면서 실행한 내용을 정리한 것이다.\n",
    "\n",
    "날짜: 2025.09.09\n",
    "\n",
    "이름: 안도혁\n",
    "\n",
    "학번 202010853"
   ]
  },
  {
   "cell_type": "code",
   "execution_count": 2,
   "id": "6a4c6fed",
   "metadata": {},
   "outputs": [
    {
     "name": "stdout",
     "output_type": "stream",
     "text": [
      "Hello, World!\n"
     ]
    }
   ],
   "source": [
    "print(\"Hello, World!\")"
   ]
  },
  {
   "cell_type": "markdown",
   "id": "e06e1178",
   "metadata": {},
   "source": [
    "### 작업 흐름 및 깃 이용법\n",
    "\n",
    "작업 > 스테이징 > 커밋 > 푸쉬 > 깃허브 업데이트 완료!\n",
    "\n",
    "관련 명령어(터미널)\n",
    "- git branch //현재 브랜치\n",
    "- git status //새로이 변경 된 내용\n",
    "- git add (이름) //스테이징\n",
    "\n",
    "불러올 때는? 클론 사용\n",
    "- git clone (주소)"
   ]
  },
  {
   "cell_type": "code",
   "execution_count": 3,
   "id": "94ea5f27",
   "metadata": {},
   "outputs": [
    {
     "name": "stdout",
     "output_type": "stream",
     "text": [
      "H\n"
     ]
    }
   ],
   "source": [
    "print(\"H\")"
   ]
  },
  {
   "cell_type": "code",
   "execution_count": null,
   "id": "a1d87379",
   "metadata": {},
   "outputs": [],
   "source": []
  }
 ],
 "metadata": {
  "kernelspec": {
   "display_name": "Python 3",
   "language": "python",
   "name": "python3"
  },
  "language_info": {
   "codemirror_mode": {
    "name": "ipython",
    "version": 3
   },
   "file_extension": ".py",
   "mimetype": "text/x-python",
   "name": "python",
   "nbconvert_exporter": "python",
   "pygments_lexer": "ipython3",
   "version": "3.12.0"
  }
 },
 "nbformat": 4,
 "nbformat_minor": 5
}
