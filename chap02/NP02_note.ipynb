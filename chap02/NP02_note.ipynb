{
 "cells": [
  {
   "cell_type": "markdown",
   "id": "5c550d8d",
   "metadata": {},
   "source": [
    "## 2장 노트정리\n",
    "\n",
    "이 파일은 2장 학습하면서 실행한 내용을 정리한 것이다.\n",
    "\n",
    "날짜: 2025.09.09\n",
    "\n",
    "이름: 안도혁\n",
    "\n",
    "학번 202010853"
   ]
  },
  {
   "cell_type": "code",
   "execution_count": 2,
   "id": "6a4c6fed",
   "metadata": {},
   "outputs": [
    {
     "name": "stdout",
     "output_type": "stream",
     "text": [
      "Hello, World!\n"
     ]
    }
   ],
   "source": [
    "print(\"Hello, World!\")"
   ]
  },
  {
   "cell_type": "markdown",
   "id": "e06e1178",
   "metadata": {},
   "source": [
    "### 작업 흐름 및 깃 이용법\n",
    "\n",
    "작업 > 스테이징 > 커밋 > 푸쉬 > 깃허브 업데이트 완료!\n",
    "\n",
    "관련 명령어(터미널)\n",
    "- git branch //현재 브랜치\n",
    "- git status //새로이 변경 된 내용\n",
    "- git add (이름) //스테이징\n",
    "- git commit -m \"메세지\"\n",
    "\n",
    "불러올 때는? 클론 사용\n",
    "- git clone (주소)"
   ]
  },
  {
   "cell_type": "markdown",
   "id": "8147edf9",
   "metadata": {},
   "source": [
    "### 수업 중 실습"
   ]
  },
  {
   "cell_type": "code",
   "execution_count": 4,
   "id": "94ea5f27",
   "metadata": {},
   "outputs": [
    {
     "name": "stdout",
     "output_type": "stream",
     "text": [
      "x = 3\n"
     ]
    }
   ],
   "source": [
    "x = 3\n",
    "print(f\"x = {x}\")"
   ]
  },
  {
   "cell_type": "code",
   "execution_count": 5,
   "id": "67645dd0",
   "metadata": {},
   "outputs": [
    {
     "name": "stdout",
     "output_type": "stream",
     "text": [
      "<class 'bool'>\n",
      "2359816\n"
     ]
    }
   ],
   "source": [
    "a = True\n",
    "print(f\"{type(a)}\")\n",
    "b = 0o11001010\n",
    "print(f\"{b}\")"
   ]
  },
  {
   "cell_type": "code",
   "execution_count": 8,
   "id": "60fda982",
   "metadata": {},
   "outputs": [
    {
     "name": "stdout",
     "output_type": "stream",
     "text": [
      "3\n",
      "1000\n"
     ]
    }
   ],
   "source": [
    "a = 10\n",
    "b = 3\n",
    "c = a//b #정수 나눗셈\n",
    "d = a**b #제곱\n",
    "print(f\"{c}\")\n",
    "print(f\"{d}\")"
   ]
  },
  {
   "cell_type": "markdown",
   "id": "5c2483f2",
   "metadata": {},
   "source": [
    "print() 함수 실습"
   ]
  },
  {
   "cell_type": "code",
   "execution_count": 1,
   "id": "c54294ac",
   "metadata": {},
   "outputs": [
    {
     "name": "stdout",
     "output_type": "stream",
     "text": [
      "30\n",
      "서원대학교\n",
      "abcabcabc\n",
      "57\n"
     ]
    }
   ],
   "source": [
    "print(10+20) #() 속 결과 출력\n",
    "print(\"서원대학교\")\n",
    "print(\"abc\" *3)\n",
    "x =25\n",
    "y =32\n",
    "z = x + y\n",
    "print(f\"{z}\")"
   ]
  }
 ],
 "metadata": {
  "kernelspec": {
   "display_name": "Python 3",
   "language": "python",
   "name": "python3"
  },
  "language_info": {
   "codemirror_mode": {
    "name": "ipython",
    "version": 3
   },
   "file_extension": ".py",
   "mimetype": "text/x-python",
   "name": "python",
   "nbconvert_exporter": "python",
   "pygments_lexer": "ipython3",
   "version": "3.12.0"
  }
 },
 "nbformat": 4,
 "nbformat_minor": 5
}
