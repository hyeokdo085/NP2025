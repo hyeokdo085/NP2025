{
 "cells": [
  {
   "cell_type": "markdown",
   "id": "e971aca9",
   "metadata": {},
   "source": [
    "## 챕터 3 조건문 예제"
   ]
  },
  {
   "cell_type": "markdown",
   "id": "0e138b04",
   "metadata": {},
   "source": [
    "### 평년과 윤년 구분하는 프로그램\n",
    "- 년도가 4로 나누어지되, 100으로 나누어지지 않거나\n",
    "- 400으로 나누어지면 윤년"
   ]
  },
  {
   "cell_type": "code",
   "execution_count": 1,
   "id": "023a2f10",
   "metadata": {},
   "outputs": [
    {
     "name": "stdout",
     "output_type": "stream",
     "text": [
      "2020 is a leap year\n"
     ]
    }
   ],
   "source": [
    "year = int(input(\"Type a year: \"))\n",
    "if (year%4 == 0 and year%100 != 0) or (year%400) == 0:\n",
    "    print(f\"{year} is a leap year\")\n",
    "else :\n",
    "    print(f\"{year} is not a leap year\")"
   ]
  }
 ],
 "metadata": {
  "kernelspec": {
   "display_name": "Python 3",
   "language": "python",
   "name": "python3"
  },
  "language_info": {
   "codemirror_mode": {
    "name": "ipython",
    "version": 3
   },
   "file_extension": ".py",
   "mimetype": "text/x-python",
   "name": "python",
   "nbconvert_exporter": "python",
   "pygments_lexer": "ipython3",
   "version": "3.12.0"
  }
 },
 "nbformat": 4,
 "nbformat_minor": 5
}
