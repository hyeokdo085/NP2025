{
 "cells": [
  {
   "cell_type": "markdown",
   "id": "5d295ff3",
   "metadata": {},
   "source": [
    "## 챕터 3 반복문 안의 조건문 예제"
   ]
  },
  {
   "cell_type": "markdown",
   "id": "641b87e0",
   "metadata": {},
   "source": [
    "### 숫자 맞추기 게임 프로그램\n",
    "\n",
    "1~100 사이 난수를 만들고 사용자가 1~100 사이 수를 입력하여 맞추는 프로그램.\n",
    "\n",
    "5회까지 맞추지 못하면 종료"
   ]
  },
  {
   "cell_type": "code",
   "execution_count": 1,
   "id": "d400e08e",
   "metadata": {},
   "outputs": [
    {
     "name": "stdout",
     "output_type": "stream",
     "text": [
      "50보다 더 큽니다. 4회 남았습니다.\n",
      "75보다 더 큽니다. 3회 남았습니다.\n",
      "87보다 더 큽니다. 2회 남았습니다.\n",
      "94보다 작습니다. 1회 남았습니다.\n",
      "90보다 더 큽니다. 0회 남았습니다.\n",
      "맞추기 실패! 정답은 91이었습니다.\n"
     ]
    }
   ],
   "source": [
    "from random import randint\n",
    "secret_num = randint(1,100)\n",
    "num_guesses = 0\n",
    "guess = 0\n",
    "\n",
    "while guess != secret_num and num_guesses <= 4:\n",
    "    guess = eval(input(\"수를 맞추십시오(1-100) \"))\n",
    "    num_guesses = num_guesses +1\n",
    "    if guess < secret_num:\n",
    "        print(f\"{guess}보다 더 큽니다. {5-num_guesses}회 남았습니다.\")\n",
    "    elif guess > secret_num:\n",
    "        print(f\"{guess}보다 작습니다. {5-num_guesses}회 남았습니다.\")\n",
    "    else:\n",
    "        print(\"정답!\")\n",
    "if num_guesses==5 and guess != secret_num:\n",
    "    print(f\"맞추기 실패! 정답은 {secret_num}이었습니다.\")"
   ]
  }
 ],
 "metadata": {
  "kernelspec": {
   "display_name": "Python 3",
   "language": "python",
   "name": "python3"
  },
  "language_info": {
   "codemirror_mode": {
    "name": "ipython",
    "version": 3
   },
   "file_extension": ".py",
   "mimetype": "text/x-python",
   "name": "python",
   "nbconvert_exporter": "python",
   "pygments_lexer": "ipython3",
   "version": "3.12.0"
  }
 },
 "nbformat": 4,
 "nbformat_minor": 5
}
