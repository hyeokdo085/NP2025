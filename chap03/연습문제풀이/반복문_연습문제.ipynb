{
 "cells": [
  {
   "cell_type": "markdown",
   "id": "be2bdc44",
   "metadata": {},
   "source": [
    "## 챕터 3 while 연습문제 풀이"
   ]
  },
  {
   "cell_type": "markdown",
   "id": "4d034273",
   "metadata": {},
   "source": [
    "### 10진수를 입력받아 2진수로 변환하여 출력하는 프로그램"
   ]
  },
  {
   "cell_type": "code",
   "execution_count": 2,
   "id": "c3d0d104",
   "metadata": {},
   "outputs": [
    {
     "name": "stdout",
     "output_type": "stream",
     "text": [
      "59은 2진수로\n",
      "111011\n"
     ]
    }
   ],
   "source": [
    "n = int(input(\"num: \"))\n",
    "result = \"\"\n",
    "print(f\"{n}은 2진수로\")\n",
    "\n",
    "while n != 0:\n",
    "    m = n%2\n",
    "    result = str(m) + result #0혹은 1을 앞에서부터 채움\n",
    "    n = n//2\n",
    "\n",
    "print(f\"{result}\")"
   ]
  }
 ],
 "metadata": {
  "kernelspec": {
   "display_name": "Python 3",
   "language": "python",
   "name": "python3"
  },
  "language_info": {
   "codemirror_mode": {
    "name": "ipython",
    "version": 3
   },
   "file_extension": ".py",
   "mimetype": "text/x-python",
   "name": "python",
   "nbconvert_exporter": "python",
   "pygments_lexer": "ipython3",
   "version": "3.12.0"
  }
 },
 "nbformat": 4,
 "nbformat_minor": 5
}
