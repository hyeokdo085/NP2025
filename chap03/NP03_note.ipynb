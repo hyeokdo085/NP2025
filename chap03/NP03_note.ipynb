{
 "cells": [
  {
   "cell_type": "markdown",
   "id": "2b9e90fb",
   "metadata": {},
   "source": [
    "## 3장 노트정리\n",
    "\n",
    "이 파일은 3장 학습하면서 실행한 내용을 정리한 것이다.\n",
    "\n",
    "날짜: 2025.09.16\n",
    "\n",
    "이름: 안도혁\n",
    "\n",
    "학번 202010853"
   ]
  },
  {
   "cell_type": "markdown",
   "id": "5cd819ff",
   "metadata": {},
   "source": [
    "### 제어문(조건, 반복)\n",
    "\n",
    "C와 다른 점?\n",
    "\n",
    "if문 : if-else if를 줄여서 if-elif 라고 축약\n",
    "\n",
    "3.0 이상에서, match문장(switch) 생김"
   ]
  },
  {
   "cell_type": "markdown",
   "id": "4ec5468b",
   "metadata": {},
   "source": [
    "### 조건문(if)\n",
    "\n",
    "C와 다르게 if 조건 뒤에 :를 사용(else도)\n",
    "\n",
    "한줄 축약도 가능: 결과 if 조건 else 결과\n",
    "\n",
    "(축약 익숙지 않으니 실습시 3번 쳐보기)\n",
    "\n",
    "조건 복잡하면 괄호 적극 사용"
   ]
  },
  {
   "cell_type": "markdown",
   "id": "b86e5e2f",
   "metadata": {},
   "source": [
    "### 반복문(while)\n",
    "\n",
    "while블록 내에서 조건 변경 필요\n",
    "\n",
    "while True: 무한반복"
   ]
  },
  {
   "cell_type": "markdown",
   "id": "8324ab1c",
   "metadata": {},
   "source": [
    "### 반복문(for)\n",
    "\n",
    "C와 다르게\n",
    "\n",
    "for [변수] in [반복객체(리스트,튜플 등)]:\n",
    "\n",
    "for-range문?\n",
    "\n",
    "for [변수] in range(start,stop,step):\n",
    "\n",
    "변수값을 start부터 step만큼 증가하며 stop까지 실행\n",
    "\n",
    "range 앞에 형(list 등) 써주면 그렇게 변환 가능"
   ]
  },
  {
   "cell_type": "markdown",
   "id": "cf9ff650",
   "metadata": {},
   "source": [
    "### 기타 제어문(break, continue, match)\n",
    "\n",
    "break 반복문 빠져나올 때\n",
    "\n",
    "continue 반복문 처음으로 돌아감\n",
    "\n",
    "return 반환\n",
    "\n",
    "match C에서 switch문(default는 _로 표시)"
   ]
  }
 ],
 "metadata": {
  "language_info": {
   "name": "python"
  }
 },
 "nbformat": 4,
 "nbformat_minor": 5
}
