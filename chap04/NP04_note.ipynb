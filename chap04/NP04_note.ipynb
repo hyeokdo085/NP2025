{
 "cells": [
  {
   "cell_type": "markdown",
   "id": "c4a2af01",
   "metadata": {},
   "source": [
    "## 4장 노트정리\n",
    "\n",
    "이 파일은 4장 학습하면서 실행한 내용을 정리한 것이다.\n",
    "\n",
    "날짜: 2025.09.09\n",
    "\n",
    "이름: 안도혁\n",
    "\n",
    "학번 202010853"
   ]
  },
  {
   "cell_type": "markdown",
   "id": "6b1a748b",
   "metadata": {},
   "source": [
    "### 자료구조?\n",
    "\n",
    "자료 표현 및 처리를 위한 구조\n",
    "\n",
    "string(문자열) : 따옴표\"\" 사용\n",
    "\n",
    "list(리스트) : 대괄호[] 사용\n",
    "\n",
    "tuple(튜플) : 소괄호() 사용\n",
    "\n",
    "dictionary(딕셔너리) : 중괄호{} 사용, 키 값(중복X), 밸류값\n",
    "\n",
    "set(집합) : 중괄호{} 사용 (원소 중복 X)"
   ]
  },
  {
   "cell_type": "markdown",
   "id": "44964ec1",
   "metadata": {},
   "source": [
    "### 문자열\n",
    "\n",
    "여러 줄 문자는 홑따옴표 3개 ''' 적어주고 ''' 혹은 \"\"\" 적어주고 \"\"\"\n",
    "\n",
    "인덱스 사용하여 몇 번째 문자인지 선택 가능\n",
    "\n",
    "[-1] 은 마지막 문자, [-6] 이면 뒤에서 6번째 문자\n",
    "\n",
    "슬라이싱(잘라내기) 할 때는?\n",
    "\n",
    "인덱스 사용하여 [0:2] 처럼 적고, 0번부터 1번까지라는 뜻\n",
    "\n",
    "word[n] + word2[n] 사용하여 합할수도 있음\n",
    "\n",
    "len(n) 사용하여 문자열 길이 측정 가능\n",
    "\n",
    "dir(타입) 적으면 클래스 내 메소드 확인 가능\n",
    "\n",
    "\"문자열\".메소드명 적으면 메소드 활용 가능(종류는 실습에서)\n",
    "\n"
   ]
  },
  {
   "cell_type": "code",
   "execution_count": 3,
   "id": "e1d23886",
   "metadata": {},
   "outputs": [
    {
     "name": "stdout",
     "output_type": "stream",
     "text": [
      "안도혁 25 172.0 010-4120-2532\n",
      "['안도혁', '25', '172.0', '010-4120-2532']\n"
     ]
    }
   ],
   "source": [
    "aline = \"안도혁 25 172.0 010-4120-2532\"\n",
    "print(f\"{aline}\")\n",
    "print(f\"{aline.split()}\")"
   ]
  }
 ],
 "metadata": {
  "kernelspec": {
   "display_name": "Python 3",
   "language": "python",
   "name": "python3"
  },
  "language_info": {
   "codemirror_mode": {
    "name": "ipython",
    "version": 3
   },
   "file_extension": ".py",
   "mimetype": "text/x-python",
   "name": "python",
   "nbconvert_exporter": "python",
   "pygments_lexer": "ipython3",
   "version": "3.12.0"
  }
 },
 "nbformat": 4,
 "nbformat_minor": 5
}
