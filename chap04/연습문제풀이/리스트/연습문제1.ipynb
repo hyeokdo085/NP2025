{
 "cells": [
  {
   "cell_type": "markdown",
   "id": "b3e28618",
   "metadata": {},
   "source": [
    "## 챕터4 리스트 연습문제풀이1"
   ]
  },
  {
   "cell_type": "markdown",
   "id": "ff13c704",
   "metadata": {},
   "source": [
    "### 1. 3명 이상 친구 이름 리스트를 작성하고 다음 내용을 프로그램하시오.\n",
    "\n",
    "insert()로 맨 앞에 새로운 친구 추가\n",
    "\n",
    "insert()로 3번째 위치에 새로운 친구 추가\n",
    "\n",
    "append()로 마지막에 친구 추가"
   ]
  },
  {
   "cell_type": "code",
   "execution_count": 1,
   "id": "97de9176",
   "metadata": {},
   "outputs": [
    {
     "name": "stdout",
     "output_type": "stream",
     "text": [
      "['박상준', '이근수', '이용준']\n",
      "['정재훈', '박상준', '이근수', '이용준']\n",
      "['정재훈', '박상준', '안도혁', '이근수', '이용준']\n",
      "['정재훈', '박상준', '안도혁', '이근수', '이용준', '카논']\n"
     ]
    }
   ],
   "source": [
    "friend = ['박상준', '이근수', '이용준']\n",
    "print(friend)\n",
    "friend.insert(0, '정재훈')\n",
    "print(friend)\n",
    "friend.insert(2, '안도혁')\n",
    "print(friend)\n",
    "friend.append('카논')\n",
    "print(friend)"
   ]
  },
  {
   "cell_type": "markdown",
   "id": "5b992e1a",
   "metadata": {},
   "source": [
    "### 2. 리스트[1,2,3]에 대해 다음과 같은 처리를 하라.\n",
    "\n",
    "두 번째 요소를 17로 수정\n",
    "\n",
    "리스트에 4, 5, 6을 추가\n",
    "\n",
    "첫 번째 요소 제거\n",
    "\n",
    "리스트를 요소 순서대로 배열하기\n",
    "\n",
    "인덱스 3에 25 넣기"
   ]
  },
  {
   "cell_type": "code",
   "execution_count": 7,
   "id": "3b64647d",
   "metadata": {},
   "outputs": [
    {
     "name": "stdout",
     "output_type": "stream",
     "text": [
      "[1, 2, 3]\n",
      "[1, 17, 3]\n",
      "[1, 17, 3, 4, 5, 6]\n",
      "[17, 3, 4, 5, 6]\n",
      "[3, 4, 5, 6, 17]\n",
      "[3, 4, 5, 25, 6, 17]\n"
     ]
    }
   ],
   "source": [
    "num = [1,2,3]\n",
    "print(num)\n",
    "num[1] = 17\n",
    "print(num)\n",
    "num.extend([4, 5, 6])\n",
    "print(num)\n",
    "del(num[0])\n",
    "print(num)\n",
    "num.sort()\n",
    "print(num)\n",
    "num.insert(3, 25)\n",
    "print(num)\n"
   ]
  }
 ],
 "metadata": {
  "kernelspec": {
   "display_name": "Python 3",
   "language": "python",
   "name": "python3"
  },
  "language_info": {
   "codemirror_mode": {
    "name": "ipython",
    "version": 3
   },
   "file_extension": ".py",
   "mimetype": "text/x-python",
   "name": "python",
   "nbconvert_exporter": "python",
   "pygments_lexer": "ipython3",
   "version": "3.12.0"
  }
 },
 "nbformat": 4,
 "nbformat_minor": 5
}
