{
 "cells": [
  {
   "cell_type": "markdown",
   "id": "2b39b76c",
   "metadata": {},
   "source": [
    "## 챕터 4 리스트 연습문제 풀이 2"
   ]
  },
  {
   "cell_type": "markdown",
   "id": "baf45a89",
   "metadata": {},
   "source": [
    "### 1.\n",
    "\n",
    "for 루프를 이용하여 다음과 같은 리스트를 생성하라."
   ]
  },
  {
   "cell_type": "markdown",
   "id": "08156147",
   "metadata": {},
   "source": [
    "0~49까지의 수로 구성되는 리스트"
   ]
  },
  {
   "cell_type": "code",
   "execution_count": 3,
   "id": "7551c1ac",
   "metadata": {},
   "outputs": [
    {
     "name": "stdout",
     "output_type": "stream",
     "text": [
      "[0, 1, 2, 3, 4, 5, 6, 7, 8, 9, 10, 11, 12, 13, 14, 15, 16, 17, 18, 19, 20, 21, 22, 23, 24, 25, 26, 27, 28, 29, 30, 31, 32, 33, 34, 35, 36, 37, 38, 39, 40, 41, 42, 43, 44, 45, 46, 47, 48, 49]\n"
     ]
    }
   ],
   "source": [
    "num = []\n",
    "for i in range(0,50):\n",
    "    num.append(i)\n",
    "print(num)"
   ]
  },
  {
   "cell_type": "markdown",
   "id": "99eb795f",
   "metadata": {},
   "source": [
    "1~50까지 수의 제곱으로 구성되는 리스트"
   ]
  },
  {
   "cell_type": "code",
   "execution_count": 4,
   "id": "47fa9260",
   "metadata": {},
   "outputs": [
    {
     "name": "stdout",
     "output_type": "stream",
     "text": [
      "[1, 4, 9, 16, 25, 36, 49, 64, 81, 100, 121, 144, 169, 196, 225, 256, 289, 324, 361, 400, 441, 484, 529, 576, 625, 676, 729, 784, 841, 900, 961, 1024, 1089, 1156, 1225, 1296, 1369, 1444, 1521, 1600, 1681, 1764, 1849, 1936, 2025, 2116, 2209, 2304, 2401, 2500]\n"
     ]
    }
   ],
   "source": [
    "num_square = []\n",
    "for i in range(1,51):\n",
    "    num_square.append(i**2)\n",
    "print(num_square)"
   ]
  },
  {
   "cell_type": "markdown",
   "id": "d2390f01",
   "metadata": {},
   "source": [
    "### 2.\n",
    "\n",
    "크기가 같은 두 개의 리스트 L,M을 생성하고 두 리스트의 각 요소 합으로 구성되는 새로운 리스트를 생성하라. 예를 들어 L=[1,2,3]이고 M=[4,5,6]이면 [5,7,9]인 리스트 생성"
   ]
  },
  {
   "cell_type": "code",
   "execution_count": 5,
   "id": "616330a0",
   "metadata": {},
   "outputs": [
    {
     "name": "stdout",
     "output_type": "stream",
     "text": [
      "[5, 10, 15]\n"
     ]
    }
   ],
   "source": [
    "L=[2,4,6]\n",
    "M=[3,6,9]\n",
    "H=[L[0]+M[0], L[1]+M[1], L[2]+M[2]]\n",
    "print(H)"
   ]
  },
  {
   "cell_type": "markdown",
   "id": "6dd91aaa",
   "metadata": {},
   "source": [
    "### 3.\n",
    "\n",
    "사용자로부터 5개의 숫자를 문자열로 입력 받아 각 숫자를 +로 연결한 문자열을 생성하라. 예를 들어 2, 5, 11, 33, 55를 입력하면 '2+5+11+33+55'를 생성하라."
   ]
  },
  {
   "cell_type": "code",
   "execution_count": null,
   "id": "ede1892f",
   "metadata": {},
   "outputs": [
    {
     "name": "stdout",
     "output_type": "stream",
     "text": [
      "5+2+8+19+2\n"
     ]
    }
   ],
   "source": [
    "string = input('숫자 5개를 입력하세요(콤마로 구분)')\n",
    "nums = string.split(',')\n",
    "result = ''\n",
    "for i in range(len(nums)):\n",
    "    result += nums[i]\n",
    "    if i < len(nums)-1 :\n",
    "        result += '+'\n",
    "print(result)\n"
   ]
  }
 ],
 "metadata": {
  "kernelspec": {
   "display_name": "Python 3",
   "language": "python",
   "name": "python3"
  },
  "language_info": {
   "codemirror_mode": {
    "name": "ipython",
    "version": 3
   },
   "file_extension": ".py",
   "mimetype": "text/x-python",
   "name": "python",
   "nbconvert_exporter": "python",
   "pygments_lexer": "ipython3",
   "version": "3.12.0"
  }
 },
 "nbformat": 4,
 "nbformat_minor": 5
}
