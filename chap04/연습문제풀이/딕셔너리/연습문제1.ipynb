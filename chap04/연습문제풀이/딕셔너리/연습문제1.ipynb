{
 "cells": [
  {
   "cell_type": "markdown",
   "id": "ac862d6e",
   "metadata": {},
   "source": [
    "## 챕터 4 딕셔너리 연습문제 1"
   ]
  },
  {
   "cell_type": "markdown",
   "id": "069a29ea",
   "metadata": {},
   "source": [
    "### 다음 딕셔너리에 대해 물음에 답하라."
   ]
  },
  {
   "cell_type": "code",
   "execution_count": 1,
   "id": "d10b1f1a",
   "metadata": {},
   "outputs": [],
   "source": [
    "days = {'January':31, 'Fabruary':28, 'March':31, \n",
    "    'April':30, 'May':31, 'June':30, 'July':31, \n",
    "    'August':31, 'September':30, 'October':31, \n",
    "    'November':30, 'December':31}"
   ]
  },
  {
   "cell_type": "markdown",
   "id": "a6b59a09",
   "metadata": {},
   "source": [
    "- 사용자가 월을 입력하면 해당 월에 일수를 출력하라"
   ]
  },
  {
   "cell_type": "code",
   "execution_count": 3,
   "id": "3ec66eda",
   "metadata": {},
   "outputs": [
    {
     "name": "stdout",
     "output_type": "stream",
     "text": [
      "June는 총 30일 입니다.\n"
     ]
    }
   ],
   "source": [
    "find_days = input('월을 입력하세요')\n",
    "print(f'{find_days}는 총 {days[find_days]}일 입니다.')"
   ]
  },
  {
   "cell_type": "markdown",
   "id": "78c599d3",
   "metadata": {},
   "source": [
    "- 알파벳 순서로 모든 월을 출력하라"
   ]
  },
  {
   "cell_type": "code",
   "execution_count": 5,
   "id": "fe387518",
   "metadata": {},
   "outputs": [
    {
     "name": "stdout",
     "output_type": "stream",
     "text": [
      "dict_keys(['January', 'Fabruary', 'March', 'April', 'May', 'June', 'July', 'August', 'September', 'October', 'November', 'December'])\n"
     ]
    }
   ],
   "source": [
    "months = days.keys()\n",
    "print(months)"
   ]
  },
  {
   "cell_type": "markdown",
   "id": "875ae554",
   "metadata": {},
   "source": [
    "- 일수가 31인 월을 모두 출력하라"
   ]
  },
  {
   "cell_type": "markdown",
   "id": "75931167",
   "metadata": {},
   "source": [
    "- 월의 일수를 기준으로 오름차순으로 (key-value) 쌍을 출력하라."
   ]
  },
  {
   "cell_type": "markdown",
   "id": "b9fded29",
   "metadata": {},
   "source": [
    "- 사용자가 월을 3자리만 입력하면 월의 일수를 출력하라.(Jan, Feb 등)"
   ]
  }
 ],
 "metadata": {
  "kernelspec": {
   "display_name": "Python 3",
   "language": "python",
   "name": "python3"
  },
  "language_info": {
   "codemirror_mode": {
    "name": "ipython",
    "version": 3
   },
   "file_extension": ".py",
   "mimetype": "text/x-python",
   "name": "python",
   "nbconvert_exporter": "python",
   "pygments_lexer": "ipython3",
   "version": "3.12.0"
  }
 },
 "nbformat": 4,
 "nbformat_minor": 5
}
