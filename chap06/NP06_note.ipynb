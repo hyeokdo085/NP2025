{
 "cells": [
  {
   "cell_type": "markdown",
   "id": "cf3354a9",
   "metadata": {},
   "source": [
    "## 6장 노트정리\n",
    "\n",
    "이 파일은 6장 학습하면서 실행한 내용을 정리한 것이다.\n",
    "\n",
    "날짜: 2025.09.24\n",
    "\n",
    "이름: 안도혁\n",
    "\n",
    "학번 202010853"
   ]
  },
  {
   "cell_type": "markdown",
   "id": "1f409dbd",
   "metadata": {},
   "source": [
    "## 클래스와 객체\n",
    "\n",
    "class 클래스이름(부모 클래스):  \n",
    "    클래스 몸체\n",
    "\n",
    "이처럼 class 키워드로 정의\n",
    "\n",
    "class Test #클래스 정의  \n",
    "    name = \"홍길동\" #클래스 속성  \n",
    "t = Test() #객체 생성  \n",
    "print(t.name) #객체에서 클래스 속성 접근\n",
    "\n",
    "이처럼 클래스와 객체 생성 및 사용 가능"
   ]
  },
  {
   "cell_type": "markdown",
   "id": "ba67e13f",
   "metadata": {},
   "source": [
    "### 개념\n",
    "\n",
    "초기화 함수 : __init__(self(객체), 변수, 변수...)\n",
    "\n",
    "클래스 변수 : 클래스 내에서 선언하여 클래스 내에서만 유효\n",
    "\n",
    "인스턴스 변수 : 객체.변수명 으로 선언, 클래스 전체에서 유효\n",
    "\n",
    "클래스 상속 : class subclass(superclass): 로 구현  \n",
    "부모클래스는 자식클래스에게 속성 물려주기 가능\n",
    "\n",
    "메소드 오버라이딩 : 자식클래스에서 부모클래스 메소드 수정 및 재정의"
   ]
  },
  {
   "cell_type": "code",
   "execution_count": 1,
   "id": "33f949f8",
   "metadata": {},
   "outputs": [
    {
     "name": "stdout",
     "output_type": "stream",
     "text": [
      "색상: Black, 속도: 60\n",
      "색상: Red\n",
      "속도: 70\n",
      "속도: 50\n"
     ]
    }
   ],
   "source": [
    "class Car :\n",
    "    def __init__(self, color, speed) : #초기화\n",
    "        self.color = color #인스턴스 변수\n",
    "        self.speed = speed\n",
    "\n",
    "    def speed_up(self, v) : #메소드 첫 매개변수는 self\n",
    "        self.speed += v #다른 메소드에서 정의된 변수에 접근\n",
    "        return self.speed\n",
    "    \n",
    "    def speed_down(self, v) :\n",
    "        self.speed -= v\n",
    "        return self.speed\n",
    "    \n",
    "mycar = Car(\"Black\", 60) #Car 클래스 객체\n",
    "print(f\"색상: {mycar.color}, 속도: {mycar.speed}\") #속성 접근\n",
    "mycar.color = \"Red\" #속성 변경\n",
    "print(f\"색상: {mycar.color}\")\n",
    "mycar.speed_up(10) #메소드 호출\n",
    "print(f\"속도: {mycar.speed}\")\n",
    "mycar.speed_down(20)\n",
    "print(f\"속도: {mycar.speed}\")"
   ]
  },
  {
   "cell_type": "code",
   "execution_count": 2,
   "id": "739ae46b",
   "metadata": {},
   "outputs": [
    {
     "name": "stdout",
     "output_type": "stream",
     "text": [
      "(3, 0)\n",
      "2\n",
      "3\n",
      "1 0\n"
     ]
    }
   ],
   "source": [
    "class Calc:\n",
    "    count = 0 #클래스 변수\n",
    "    def add(self, a=0, b=0):\n",
    "        self.a = a #인스턴스 변수\n",
    "        self.b = b\n",
    "        self.count += 1 #클래스 변수를 self와 함께=인스턴스\n",
    "        return self.a + self.b\n",
    "    def sub(self, a, b):\n",
    "        if a == 0 or b == 0:\n",
    "            return a - b, self.count\n",
    "        else:\n",
    "            return a - b\n",
    "        \n",
    "obj = Calc()\n",
    "print(obj.sub(3,0)) #count 출력\n",
    "print(obj.sub(3,1))\n",
    "print(obj.add(1,2)) #count 증가\n",
    "print(obj.count, Calc.count) #인스턴스는 변하지만 클래스는 불변"
   ]
  }
 ],
 "metadata": {
  "kernelspec": {
   "display_name": "Python 3",
   "language": "python",
   "name": "python3"
  },
  "language_info": {
   "codemirror_mode": {
    "name": "ipython",
    "version": 3
   },
   "file_extension": ".py",
   "mimetype": "text/x-python",
   "name": "python",
   "nbconvert_exporter": "python",
   "pygments_lexer": "ipython3",
   "version": "3.12.0"
  }
 },
 "nbformat": 4,
 "nbformat_minor": 5
}
