{
 "cells": [
  {
   "cell_type": "markdown",
   "id": "ca5b4b80",
   "metadata": {},
   "source": [
    "## 챕터 6 함수 연습문제 풀이"
   ]
  },
  {
   "cell_type": "markdown",
   "id": "c3247571",
   "metadata": {},
   "source": [
    "### 6-3 연습문제\n",
    "\n",
    "Moneybox 클래스를 작성하라. 이 클래스는 저축한 총액을 저장하는 인스턴스 변수가 있다.  \n",
    "deposit(money) 메소드는 인수로 주어진 금액만큼 저축하고 총액을 출력한다.  \n",
    "extract(money) 메소드는 money를 인출하고 총액을 출력한다.  \n",
    "get_total() 메소드는 총액을 알려준다.\n",
    "\n",
    "my_money = Moneybox() 객체를 생성하고, 1000원을 저축하고, 200원을 인출한 다음, 총액을 출력하라."
   ]
  },
  {
   "cell_type": "code",
   "execution_count": 1,
   "id": "5d69da39",
   "metadata": {},
   "outputs": [
    {
     "name": "stdout",
     "output_type": "stream",
     "text": [
      "1000\n",
      "800\n",
      "800\n"
     ]
    }
   ],
   "source": [
    "class Moneybox:\n",
    "    def __init__(self, money = 0):\n",
    "        self.money = money\n",
    "    def deposit(self, amount):\n",
    "        self.money += amount\n",
    "        return self.money\n",
    "    def extract(self, amount):\n",
    "        self.money -= amount\n",
    "        return self.money\n",
    "    def get_total(self):\n",
    "        return self.money\n",
    "    \n",
    "my_money = Moneybox()\n",
    "print(my_money.deposit(1000))\n",
    "print(my_money.extract(200))\n",
    "print(my_money.get_total())"
   ]
  },
  {
   "cell_type": "markdown",
   "id": "00d4a2f2",
   "metadata": {},
   "source": [
    "### 6-4 연습문제\n",
    "\n",
    "Password_manager 클래스를 작성하라. 이 클래스는 사용자의 모든 과거 패스워드를 저장하는 old_passwords 리스트 변수를 갖는다. 리스트의 마지막 요소는 현재 패스워드이다. 현재 패스워드를 알려주는 get_password와 새로운 패스워드를 설정하는 set_password 메소드를 정의하라. set_password는 과거에 사용하지 않은 새로운 패스워드를 설정할 때만 유효하다. 문자열을 입력받아 현재 배스워드와 같은지 True 또는 False를 반환하는 is_correct 메소드를 정의하라."
   ]
  },
  {
   "cell_type": "code",
   "execution_count": 13,
   "id": "24be1c1a",
   "metadata": {},
   "outputs": [
    {
     "name": "stdout",
     "output_type": "stream",
     "text": [
      "No password set\n",
      "Password added\n",
      "abc123\n",
      "Password added\n",
      "def456\n",
      "False\n",
      "True\n"
     ]
    }
   ],
   "source": [
    "class Password_manager:\n",
    "    def __init__(self):\n",
    "        self.old_passwords = []\n",
    "    def get_password(self):\n",
    "        if self.old_passwords:\n",
    "            return self.old_passwords[-1]\n",
    "        else:\n",
    "            return \"No password set\"\n",
    "    def set_password(self, new_pw):\n",
    "        if new_pw in self.old_passwords:\n",
    "            return \"Error: Password has been used\"\n",
    "        else:\n",
    "            self.old_passwords.append(new_pw)\n",
    "            return \"Password added\"\n",
    "    def is_correct(self, pw):\n",
    "        if pw == self.old_passwords[-1]:\n",
    "            return True\n",
    "        else:\n",
    "            return False\n",
    "        \n",
    "my_pw = Password_manager()\n",
    "print(my_pw.get_password())\n",
    "print(my_pw.set_password(\"abc123\"))\n",
    "print(my_pw.get_password())\n",
    "print(my_pw.set_password(\"def456\"))\n",
    "print(my_pw.get_password())\n",
    "print(my_pw.is_correct(\"abc123\"))\n",
    "print(my_pw.is_correct(\"def456\"))\n"
   ]
  }
 ],
 "metadata": {
  "kernelspec": {
   "display_name": "Python 3",
   "language": "python",
   "name": "python3"
  },
  "language_info": {
   "codemirror_mode": {
    "name": "ipython",
    "version": 3
   },
   "file_extension": ".py",
   "mimetype": "text/x-python",
   "name": "python",
   "nbconvert_exporter": "python",
   "pygments_lexer": "ipython3",
   "version": "3.12.0"
  }
 },
 "nbformat": 4,
 "nbformat_minor": 5
}
