{
 "cells": [
  {
   "cell_type": "markdown",
   "id": "ca5b4b80",
   "metadata": {},
   "source": [
    "## 챕터 6 함수 연습문제 풀이"
   ]
  },
  {
   "cell_type": "markdown",
   "id": "c3247571",
   "metadata": {},
   "source": [
    "### 6-3 연습문제\n",
    "\n",
    "Moneybox 클래스를 작성하라. 이 클래스는 저축한 총액을 저장하는 인스턴스 변수가 있다.  \n",
    "deposit(money) 메소드는 인수로 주어진 금액만큼 저축하고 총액을 출력한다.  \n",
    "extract(money) 메소드는 money를 인출하고 총액을 출력한다.  \n",
    "get_total() 메소드는 총액을 알려준다.\n",
    "\n",
    "my_money = Moneybox() 객체를 생성하고, 1000원을 저축하고, 200원을 인출한 다음, 총액을 출력하라."
   ]
  }
 ],
 "metadata": {
  "language_info": {
   "name": "python"
  }
 },
 "nbformat": 4,
 "nbformat_minor": 5
}
