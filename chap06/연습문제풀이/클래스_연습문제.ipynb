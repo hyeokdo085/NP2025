{
 "cells": [
  {
   "cell_type": "markdown",
   "id": "ca5b4b80",
   "metadata": {},
   "source": [
    "## 챕터 6 함수 연습문제 풀이"
   ]
  },
  {
   "cell_type": "markdown",
   "id": "c3247571",
   "metadata": {},
   "source": [
    "### 6-3 연습문제\n",
    "\n",
    "Moneybox 클래스를 작성하라. 이 클래스는 저축한 총액을 저장하는 인스턴스 변수가 있다.  \n",
    "deposit(money) 메소드는 인수로 주어진 금액만큼 저축하고 총액을 출력한다.  \n",
    "extract(money) 메소드는 money를 인출하고 총액을 출력한다.  \n",
    "get_total() 메소드는 총액을 알려준다.\n",
    "\n",
    "my_money = Moneybox() 객체를 생성하고, 1000원을 저축하고, 200원을 인출한 다음, 총액을 출력하라."
   ]
  },
  {
   "cell_type": "code",
   "execution_count": 1,
   "id": "5d69da39",
   "metadata": {},
   "outputs": [
    {
     "name": "stdout",
     "output_type": "stream",
     "text": [
      "1000\n",
      "800\n",
      "800\n"
     ]
    }
   ],
   "source": [
    "class Moneybox:\n",
    "    def __init__(self, money = 0):\n",
    "        self.money = money\n",
    "    def deposit(self, amount):\n",
    "        self.money += amount\n",
    "        return self.money\n",
    "    def extract(self, amount):\n",
    "        self.money -= amount\n",
    "        return self.money\n",
    "    def get_total(self):\n",
    "        return self.money\n",
    "    \n",
    "my_money = Moneybox()\n",
    "print(my_money.deposit(1000))\n",
    "print(my_money.extract(200))\n",
    "print(my_money.get_total())"
   ]
  },
  {
   "cell_type": "markdown",
   "id": "00d4a2f2",
   "metadata": {},
   "source": [
    "### 6-4 연습문제\n",
    "\n",
    "Password_manager 클래스를 작성하라. 이 클래스는 사용자의 모든 과거 패스워드를 저장하는 old_passwords 리스트 변수를 갖는다. 리스트의 마지막 요소는 현재 패스워드이다. 현재 패스워드를 알려주는 get_password와 새로운 패스워드를 설정하는 set_password 메소드를 정의하라. set_password는 과거에 사용하지 않은 새로운 패스워드를 설정할 때만 유효하다. 문자열을 입력받아 현재 배스워드와 같은지 True 또는 False를 반환하는 is_correct 메소드를 정의하라."
   ]
  },
  {
   "cell_type": "code",
   "execution_count": 13,
   "id": "24be1c1a",
   "metadata": {},
   "outputs": [
    {
     "name": "stdout",
     "output_type": "stream",
     "text": [
      "No password set\n",
      "Password added\n",
      "abc123\n",
      "Password added\n",
      "def456\n",
      "False\n",
      "True\n"
     ]
    }
   ],
   "source": [
    "class Password_manager:\n",
    "    def __init__(self):\n",
    "        self.old_passwords = []\n",
    "    def get_password(self):\n",
    "        if self.old_passwords:\n",
    "            return self.old_passwords[-1]\n",
    "        else:\n",
    "            return \"No password set\"\n",
    "    def set_password(self, new_pw):\n",
    "        if new_pw in self.old_passwords:\n",
    "            return \"Error: Password has been used\"\n",
    "        else:\n",
    "            self.old_passwords.append(new_pw)\n",
    "            return \"Password added\"\n",
    "    def is_correct(self, pw):\n",
    "        if pw == self.old_passwords[-1]:\n",
    "            return True\n",
    "        else:\n",
    "            return False\n",
    "        \n",
    "my_pw = Password_manager()\n",
    "print(my_pw.get_password())\n",
    "print(my_pw.set_password(\"abc123\"))\n",
    "print(my_pw.get_password())\n",
    "print(my_pw.set_password(\"def456\"))\n",
    "print(my_pw.get_password())\n",
    "print(my_pw.is_correct(\"abc123\"))\n",
    "print(my_pw.is_correct(\"def456\"))\n"
   ]
  },
  {
   "cell_type": "markdown",
   "id": "887b1841",
   "metadata": {},
   "source": [
    "### 6-5 연습문제\n",
    "\n",
    "Articles 클래스를 작성하라. 이 클래스는 각각 제품의 이름, 재고 수향, 단가를 나타내는 name, stock, price 인스턴스 변수를 갖고 있다. offer_price() 메소드는 구매 수량을 인수로 전달받아 총 가격을 반환한다. 구매 수향이 1~10개 이하이면 정상가격을 반환하고, 11~50개 이면 5% 할인된 가격을 반환한다. 또 51개 이상이면 10% 할인해 준다. purchase() 메소드는 구매 수량을 인수로 전달받아 재고 수량을 구매 수량만큼 감소한다.\n",
    "\n",
    "이 클래스를 이용하여 단가 1000원인 \"mask\"를 10000장으로 설정하고, 40장 구매 가격과 구매 후 재고를 출력하라."
   ]
  },
  {
   "cell_type": "code",
   "execution_count": 1,
   "id": "798ddde4",
   "metadata": {},
   "outputs": [
    {
     "name": "stdout",
     "output_type": "stream",
     "text": [
      "38000.0\n",
      "9960\n"
     ]
    }
   ],
   "source": [
    "class Articles:\n",
    "    def __init__(self, name, stock, price):\n",
    "        self.name = name\n",
    "        self.stock = stock\n",
    "        self.price = price\n",
    "    def offer_price(self, stock):\n",
    "        if 11 <= stock <= 50:\n",
    "            return self.price * stock * 0.95\n",
    "        elif stock >= 51:\n",
    "            return self.price * stock * 0.90\n",
    "        else:\n",
    "            return self.price * stock\n",
    "    def purchase(self, stock):\n",
    "        self.stock -= stock\n",
    "        return self.stock\n",
    "    \n",
    "my_art = Articles(\"mask\", 10000, 1000)\n",
    "print(my_art.offer_price(40))\n",
    "print(my_art.purchase(40))"
   ]
  },
  {
   "cell_type": "markdown",
   "id": "8fa5e8a8",
   "metadata": {},
   "source": [
    "### 6-6 연습문제\n",
    "\n",
    "다음 프로그램을 실행했을 때 아래 내용이 출력되도록 클래스를 정의하라. 학번(id) 앞 4자리가 2018보다 작으면 grade() 메소드에 의해 \"3학년입니다\"가 출력되고 아니면 \"3학년이 아닙니다\"가 출력된다.\n",
    "\n",
    "[출력내용]  \n",
    "이름: 홍길동, 학번: 20150001, 학과: 로봇공학과  \n",
    "3학년입니다."
   ]
  },
  {
   "cell_type": "code",
   "execution_count": 9,
   "id": "33cef1b2",
   "metadata": {},
   "outputs": [
    {
     "name": "stdout",
     "output_type": "stream",
     "text": [
      "이름: 홍길동, 학번: 20150001, 학과: 로봇공학과\n",
      "3학년입니다\n"
     ]
    }
   ],
   "source": [
    "class Student:\n",
    "    def __init__(self, name, id, dept):\n",
    "        self.name = name\n",
    "        self.id = id\n",
    "        self.dept = dept\n",
    "    def grade(self):\n",
    "        if int(self.id[:4]) < 2018:\n",
    "            print(\"3학년입니다\")\n",
    "        else:\n",
    "            print(\"3학년이 아닙니다\")\n",
    "\n",
    "man = Student(name=\"홍길동\", id=\"20150001\", dept=\"로봇공학과\")\n",
    "print(f\"이름: {man.name}, 학번: {man.id}, 학과: {man.dept}\")\n",
    "man.grade()"
   ]
  },
  {
   "cell_type": "markdown",
   "id": "88b3f621",
   "metadata": {},
   "source": [
    "### 6-7 연습문제\n",
    "\n",
    "다음 Person 클래스를 상속 받는 Employee 클래스를 정의하라. Employee 클래셍 employeeID 속성을 추가하고 getID() 메소드를 정의하라. getID() 메소드는 employeeID를 반환하는 메소드이다. Employee 클래스를 이용하여 Employee(\"동양\", 65, 2019)로 생성된 객체의 이름, 나이, ID를 출력하라."
   ]
  },
  {
   "cell_type": "code",
   "execution_count": 10,
   "id": "40522865",
   "metadata": {},
   "outputs": [
    {
     "name": "stdout",
     "output_type": "stream",
     "text": [
      "이름: 동양, 나이: 65, ID: 2019\n"
     ]
    }
   ],
   "source": [
    "class Person:\n",
    "    def __init__(self, name, age):\n",
    "        self.name = name\n",
    "        self.age = age\n",
    "    def getName(self):\n",
    "        print(self.name)\n",
    "    def getAge(self):\n",
    "        print(self.age)\n",
    "\n",
    "class Employee(Person):\n",
    "    def __init__(self, name, age, employeeID):\n",
    "        super().__init__(name, age)\n",
    "        self.employeeID = employeeID\n",
    "    def getID(self):\n",
    "        return self.employeeID\n",
    "    \n",
    "emp = Employee(\"동양\", 65, 2019)\n",
    "print(f\"이름: {emp.name}, 나이: {emp.age}, ID: {emp.getID()}\")"
   ]
  },
  {
   "cell_type": "markdown",
   "id": "a716c787",
   "metadata": {},
   "source": [
    "### 6-8 연습문제\n",
    "\n"
   ]
  },
  {
   "cell_type": "markdown",
   "id": "78c8fe62",
   "metadata": {},
   "source": [
    "### 6-9 연습문제"
   ]
  },
  {
   "cell_type": "markdown",
   "id": "c14b43f4",
   "metadata": {},
   "source": [
    "### 6-10 연습문제\n",
    "\n",
    "animal.ipynb 파일에 따로 작성"
   ]
  }
 ],
 "metadata": {
  "kernelspec": {
   "display_name": "Python 3",
   "language": "python",
   "name": "python3"
  },
  "language_info": {
   "codemirror_mode": {
    "name": "ipython",
    "version": 3
   },
   "file_extension": ".py",
   "mimetype": "text/x-python",
   "name": "python",
   "nbconvert_exporter": "python",
   "pygments_lexer": "ipython3",
   "version": "3.12.0"
  }
 },
 "nbformat": 4,
 "nbformat_minor": 5
}
