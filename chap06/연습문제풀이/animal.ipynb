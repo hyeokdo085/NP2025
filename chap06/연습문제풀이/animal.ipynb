{
 "cells": [
  {
   "cell_type": "markdown",
   "id": "5fdd4683",
   "metadata": {},
   "source": [
    "## 연습문제 6-10\n",
    "\n",
    "동물(Animal)을 울음을 추상 메소드로 하는 추상클래스로 정의하고,\n",
    "- 개(Dog)와 고양이(Cat)를 구체적인 클래스로 정의한 후,\n",
    "- 각 동물의 울음소리를 출력하는 프로그램을 작성\n",
    "- 각 동물객체는 자신의 이름을 속성으로 가지며\n",
    "- 생성자에서 이름을 초기화\n",
    "- 추가적으로 Animal 클래스는 현재 생성된 동물 객체의 수를 클래스 변수로 갖고,\n",
    "- 정적 메소드로 현재 동물 객체의 수를 반환하는 메소드를 구현\n",
    "- 객체가 생성(__init__)될 때 객체의 수를 증가하고 삭제(__del__(self))될 때 객체의 수를 감소\n",
    "\n",
    "- 개나 고양이 객체들을 리스트로 생성하고 개나 Animal 변수로 받아 동적 바인딩이 되는지 확인\n",
    "- 모든 객체들이 울게 하는 함수를 작성하여 테스트"
   ]
  },
  {
   "cell_type": "code",
   "execution_count": 5,
   "id": "7c09a2bb",
   "metadata": {},
   "outputs": [
    {
     "name": "stdout",
     "output_type": "stream",
     "text": [
      "춘식이이 멍멍하고 울어요\n",
      "야옹이이 야옹하고 울어요\n",
      "현재 동물 수: 2\n",
      "바둑이이 멍멍하고 울어요\n",
      "현재 동물 수: 3\n",
      "토리이 멍멍하고 울어요\n",
      "나비이 야옹하고 울어요\n",
      "멍멍이이 멍멍하고 울어요\n",
      "냥이이 야옹하고 울어요\n"
     ]
    }
   ],
   "source": [
    "from abc import ABC, abstractmethod\n",
    "\n",
    "class Animal(ABC):\n",
    "    count = 0 #클래스 변수\n",
    "\n",
    "    def __init__(self):\n",
    "        Animal.count += 1 #객체 생성마다 1씩 증가\n",
    "    \n",
    "    @abstractmethod\n",
    "    def sound(self):\n",
    "        pass\n",
    "\n",
    "    @staticmethod\n",
    "    def get_count():\n",
    "        return Animal.count #현재 동물 객체 수 반환\n",
    "    \n",
    "class Dog(Animal):\n",
    "    def __init__(self, name):\n",
    "        super().__init__() #부모 클래스 생성자 호출\n",
    "        self.__name = name\n",
    "\n",
    "    def sound(self): #추상 메소드 구현\n",
    "        return f\"{self.__name}이 멍멍하고 울어요\"\n",
    "    \n",
    "class Cat(Animal):\n",
    "    def __init__(self, name):\n",
    "        super().__init__()\n",
    "        self.__name = name\n",
    "\n",
    "    def sound(self):\n",
    "        return f\"{self.__name}이 야옹하고 울어요\"\n",
    "\n",
    "if __name__ == \"__main__\":\n",
    "    mydog : Dog = Dog(\"춘식이\") # 이름:타입\n",
    "    mycat : Cat = Cat(\"야옹이\")\n",
    "    print(mydog.sound())\n",
    "    print(mycat.sound())\n",
    "    print(f\"현재 동물 수: {Animal.get_count()}\")\n",
    "\n",
    "    # anymal : Animal = Animal() #추상 클래스는 객체 생성 불가\n",
    "\n",
    "    anymal : Animal = Dog(\"바둑이\")\n",
    "    print(anymal.sound()) #동적 바인딩\n",
    "    # 부모 타입의 참조 변수로 자식 객체를 참조\n",
    "    # Animal 클래스의 sound()가 pass가 아니라도 자식 클래스의 sound()가 호출됨\n",
    "    print(f\"현재 동물 수: {Animal.get_count()}\")\n",
    "\n",
    "    animalList = [Dog(\"토리\"), Cat(\"나비\"), Dog(\"멍멍이\"), Cat(\"냥이\")]\n",
    "    for animal in animalList: #animal : Animal\n",
    "        print(animal.sound())\n",
    "\n",
    "    def make_sound(animals: list[Animal]):\n",
    "        for animal in animals:\n",
    "            print(animal.sound())"
   ]
  }
 ],
 "metadata": {
  "kernelspec": {
   "display_name": "Python 3",
   "language": "python",
   "name": "python3"
  },
  "language_info": {
   "codemirror_mode": {
    "name": "ipython",
    "version": 3
   },
   "file_extension": ".py",
   "mimetype": "text/x-python",
   "name": "python",
   "nbconvert_exporter": "python",
   "pygments_lexer": "ipython3",
   "version": "3.12.0"
  }
 },
 "nbformat": 4,
 "nbformat_minor": 5
}
